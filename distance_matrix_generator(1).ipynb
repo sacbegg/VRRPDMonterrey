{
  "nbformat": 4,
  "nbformat_minor": 0,
  "metadata": {
    "colab": {
      "provenance": []
    },
    "kernelspec": {
      "name": "python3",
      "display_name": "Python 3"
    },
    "language_info": {
      "name": "python"
    }
  },
  "cells": [
    {
      "cell_type": "code",
      "source": [
        "\"\"\"\n",
        "my_api_key.txt\n",
        "places.csv -by random_point_generator.py\n",
        "\n",
        "output\n",
        "-distance_matrix.csv\n",
        "\"\"\""
      ],
      "metadata": {
        "id": "wZwG6z45AQu4",
        "colab": {
          "base_uri": "https://localhost:8080/",
          "height": 35
        },
        "outputId": "980c4832-8351-4f3e-8ab4-e31a9f724e62"
      },
      "execution_count": 1,
      "outputs": [
        {
          "output_type": "execute_result",
          "data": {
            "text/plain": [
              "'\\nmy_api_key.txt\\nplaces.csv -by random_point_generator.py\\n\\noutput\\n-distance_matrix.csv\\n'"
            ],
            "application/vnd.google.colaboratory.intrinsic+json": {
              "type": "string"
            }
          },
          "metadata": {},
          "execution_count": 1
        }
      ]
    },
    {
      "cell_type": "markdown",
      "source": [
        "Instala Google Maps"
      ],
      "metadata": {
        "id": "1OsBwSQT0yPp"
      }
    },
    {
      "cell_type": "code",
      "execution_count": 2,
      "metadata": {
        "colab": {
          "base_uri": "https://localhost:8080/"
        },
        "id": "BjRCTBvWxMWd",
        "outputId": "00cc41eb-8a2b-4587-f4b2-c28e8a1dcce1"
      },
      "outputs": [
        {
          "output_type": "stream",
          "name": "stdout",
          "text": [
            "Looking in indexes: https://pypi.org/simple, https://us-python.pkg.dev/colab-wheels/public/simple/\n",
            "Collecting googlemaps\n",
            "  Downloading googlemaps-4.10.0.tar.gz (33 kB)\n",
            "  Preparing metadata (setup.py) ... \u001b[?25l\u001b[?25hdone\n",
            "Requirement already satisfied: requests<3.0,>=2.20.0 in /usr/local/lib/python3.10/dist-packages (from googlemaps) (2.27.1)\n",
            "Requirement already satisfied: urllib3<1.27,>=1.21.1 in /usr/local/lib/python3.10/dist-packages (from requests<3.0,>=2.20.0->googlemaps) (1.26.15)\n",
            "Requirement already satisfied: certifi>=2017.4.17 in /usr/local/lib/python3.10/dist-packages (from requests<3.0,>=2.20.0->googlemaps) (2022.12.7)\n",
            "Requirement already satisfied: charset-normalizer~=2.0.0 in /usr/local/lib/python3.10/dist-packages (from requests<3.0,>=2.20.0->googlemaps) (2.0.12)\n",
            "Requirement already satisfied: idna<4,>=2.5 in /usr/local/lib/python3.10/dist-packages (from requests<3.0,>=2.20.0->googlemaps) (3.4)\n",
            "Building wheels for collected packages: googlemaps\n",
            "  Building wheel for googlemaps (setup.py) ... \u001b[?25l\u001b[?25hdone\n",
            "  Created wheel for googlemaps: filename=googlemaps-4.10.0-py3-none-any.whl size=40718 sha256=9fd9db74b2ca679e9e707e68404b61ed404c91006d5d50afcd74fb4eac2491a3\n",
            "  Stored in directory: /root/.cache/pip/wheels/17/f8/79/999d5d37118fd35d7219ef57933eb9d09886c4c4503a800f84\n",
            "Successfully built googlemaps\n",
            "Installing collected packages: googlemaps\n",
            "Successfully installed googlemaps-4.10.0\n"
          ]
        }
      ],
      "source": [
        "!pip install googlemaps"
      ]
    },
    {
      "cell_type": "markdown",
      "source": [
        "Leer llave API de Google Maps"
      ],
      "metadata": {
        "id": "iYURzkuJ042c"
      }
    },
    {
      "cell_type": "code",
      "source": [
        "with open('my_api_key.txt') as f:\n",
        "    api_key = f.readlines()"
      ],
      "metadata": {
        "id": "YiHEUTWL1CE-"
      },
      "execution_count": 3,
      "outputs": []
    },
    {
      "cell_type": "markdown",
      "source": [
        "Llama API para obtener distnacia y tiempo de viaje entre dos puntos dados"
      ],
      "metadata": {
        "id": "gDJVUw7t1cRg"
      }
    },
    {
      "cell_type": "code",
      "source": [
        "import googlemaps\n",
        "from datetime import datetime\n",
        "now = datetime.now()\n",
        "gmaps_client = googlemaps.Client(key=api_key[0])\n",
        "source = \"22.5411, 88.3378\"\n",
        "destination = \"28.66, 77.23\"\n",
        "mode=\"driving\"\n",
        "avoid=\"ferries\"\n",
        "direction_results = gmaps_client.directions(source, destination, mode=mode, avoid=avoid, departure_time=now, transit_mode=\"bus\")\n",
        "\n",
        "print(direction_results[0]['legs'][0]['distance']) # valor en milimetros\n",
        "print(direction_results[0]['legs'][0]['duration']) # valor en minutos\n"
      ],
      "metadata": {
        "colab": {
          "base_uri": "https://localhost:8080/"
        },
        "id": "fhslknxW1Yhy",
        "outputId": "0a7934f1-ffc7-4d2d-b90b-58638cf69977"
      },
      "execution_count": 4,
      "outputs": [
        {
          "output_type": "stream",
          "name": "stdout",
          "text": [
            "{'text': '1,547 km', 'value': 1546917}\n",
            "{'text': '1 day 1 hour', 'value': 91498}\n"
          ]
        }
      ]
    },
    {
      "cell_type": "markdown",
      "source": [
        "Ingresamos matrix de distancias, vacia"
      ],
      "metadata": {
        "id": "i8V_tPg7NcTY"
      }
    },
    {
      "cell_type": "code",
      "source": [
        "now = datetime.now()\n",
        "direction_results = gmaps_client.directions(\"Queretaro, amealco, el pinar\", \"cimat monterrey\", mode=\"driving\", avoid=\"ferries\", departure_time=now, transit_mode=\"bus\")\n",
        "\n",
        "print(direction_results[0]['legs'][0]['distance']) # en milimetros\n",
        "print(direction_results[0]['legs'][0]['duration']) # en minutos \n",
        "print(direction_results)\n"
      ],
      "metadata": {
        "colab": {
          "base_uri": "https://localhost:8080/"
        },
        "id": "80b43_u8NbT8",
        "outputId": "b55cce6c-a279-4520-a1e5-c377e50808e5"
      },
      "execution_count": 5,
      "outputs": [
        {
          "output_type": "stream",
          "name": "stdout",
          "text": [
            "{'text': '797 km', 'value': 797233}\n",
            "{'text': '9 hours 6 mins', 'value': 32753}\n",
            "[{'bounds': {'northeast': {'lat': 25.7649394, 'lng': -100.0727398}, 'southwest': {'lat': 20.1794804, 'lng': -100.8787319}}, 'copyrights': 'Map data ©2023 INEGI', 'legs': [{'distance': {'text': '797 km', 'value': 797233}, 'duration': {'text': '9 hours 6 mins', 'value': 32753}, 'duration_in_traffic': {'text': '8 hours 49 mins', 'value': 31713}, 'end_address': 'Alianza Centro 502, 66629 N.L., Mexico', 'end_location': {'lat': 25.7625444, 'lng': -100.1136279}, 'start_address': '76850 Amealco de Bonfil, Qro., Mexico', 'start_location': {'lat': 20.1794804, 'lng': -100.1611077}, 'steps': [{'distance': {'text': '0.3 km', 'value': 272}, 'duration': {'text': '1 min', 'value': 46}, 'end_location': {'lat': 20.1786667, 'lng': -100.1635213}, 'html_instructions': 'Head <b>southwest</b> on <b>Cam. Real a Acámbaro</b> toward <b>C. Cam. Real a Coroneo</b>', 'polyline': {'points': 'whdzB|uibR^r@d@hAHTf@pAJVH^BRNnD'}, 'start_location': {'lat': 20.1794804, 'lng': -100.1611077}, 'travel_mode': 'DRIVING'}, {'distance': {'text': '0.9 km', 'value': 868}, 'duration': {'text': '2 mins', 'value': 90}, 'end_location': {'lat': 20.185761, 'lng': -100.1618817}, 'html_instructions': 'Turn <b>right</b> at <b>Cam. Real a Chiteje de la Cruz</b>', 'maneuver': 'turn-right', 'polyline': {'points': 'ucdzB~djbRcAFi@@wDJwCFk@AC?QCeAYUAa@@_@@K@SB_C`@w@Na@DO?C?SCOEk@Ui@]qAiA][[Ww@o@MMgA}@USs@y@'}, 'start_location': {'lat': 20.1786667, 'lng': -100.1635213}, 'travel_mode': 'DRIVING'}, {'distance': {'text': '54 m', 'value': 54}, 'duration': {'text': '1 min', 'value': 10}, 'end_location': {'lat': 20.1861753, 'lng': -100.1616057}, 'html_instructions': 'Slight <b>left</b> at <b>Prol Pino Suárez</b>', 'maneuver': 'turn-slight-left', 'polyline': {'points': '_pezBvzibRsAu@'}, 'start_location': {'lat': 20.185761, 'lng': -100.1618817}, 'travel_mode': 'DRIVING'}, {'distance': {'text': '2.2 km', 'value': 2184}, 'duration': {'text': '3 mins', 'value': 183}, 'end_location': {'lat': 20.1956578, 'lng': -100.1497331}, 'html_instructions': 'Turn <b>right</b> onto <b>Coroneo - San Juan del Rio</b>/<wbr/><b>Prol Pino Suárez</b>/<wbr/><b>San Juan del Rio - Coroneo</b>/<wbr/><b>México 120</b><div style=\"font-size:0.9em\">Continue to follow Coroneo - San Juan del Rio/<wbr/>México 120</div>', 'maneuver': 'turn-right', 'polyline': {'points': 'srezB`yibRk@{IGaAOsBe@sHCm@IeAWoEEi@WeECe@Eo@KgBAEIkBIiACUKqAI_BImAMaBMeBAY?MGyACQMSEKGMEGMK[?UAcDCW@eIv@a@FaAFO@A@UB[FcAPgBVoBVw@Fe@@UAQ?cBMc@Ce@EyCSiAQ'}, 'start_location': {'lat': 20.1861753, 'lng': -100.1616057}, 'travel_mode': 'DRIVING'}, {'distance': {'text': '86 m', 'value': 86}, 'duration': {'text': '1 min', 'value': 11}, 'end_location': {'lat': 20.1963973, 'lng': -100.1494953}, 'html_instructions': 'Continue straight onto <b>Coroneo - San Juan del Rio</b>/<wbr/><b>Roberto Ruiz Obregón</b>/<wbr/><b>México 120</b>', 'maneuver': 'straight', 'polyline': {'points': '{mgzBxngbR]G]Gi@ISGICECIC'}, 'start_location': {'lat': 20.1956578, 'lng': -100.1497331}, 'travel_mode': 'DRIVING'}, {'distance': {'text': '0.2 km', 'value': 172}, 'duration': {'text': '1 min', 'value': 20}, 'end_location': {'lat': 20.1976355, 'lng': -100.1496991}, 'html_instructions': 'At the roundabout, take the <b>3rd</b> exit', 'maneuver': 'roundabout-right', 'polyline': {'points': 'orgzBjmgbR?A?A@??A?A?A?A?A?A?C?A?A?A?AAA?AAAAACCEEECECGAEAEAG?K?C@E?CBC@C@CBABCBOLYNk@R_AZ'}, 'start_location': {'lat': 20.1963973, 'lng': -100.1494953}, 'travel_mode': 'DRIVING'}, {'distance': {'text': '33.4 km', 'value': 33450}, 'duration': {'text': '28 mins', 'value': 1680}, 'end_location': {'lat': 20.4405574, 'lng': -100.0728934}, 'html_instructions': 'Continue onto <b>Coroneo - San Juan del Rio</b>/<wbr/><b>San Juan del Rio - Coroneo</b>/<wbr/><b>México 120</b><div style=\"font-size:0.9em\">Continue to follow Coroneo - San Juan del Rio/<wbr/>México 120</div>', 'polyline': {'points': 'gzgzBrngbRO@kHr@I@mIz@_@D{BTiGl@_Iv@aAL{CZyBRqJ`AC?a@DeAJyAPoAReBX}@P_@FyBb@e@JwDt@WFuDt@yHxAy@NiATqGnAgGhAkMfCc@HkDp@_BZqB^sKvByAXmAT}AXc@H{Cn@]HeDl@qEz@o@JgALc@HoAFgAFm@By@?uIDI?]?mB?_A?_E?aG@}M@s@?k[Bqh@F]AC?kF@gS@yF@A?aC?q@?c@@yH?]C_@Eg@CgD@_BAaE@c@?C?oC?}E@uF?_@?C?iOBqF?iD@I?eC?cAAs@AM?qAE{AEE?q@CWAw@GwAK}@E]?_@Ac@Ei@Em@E_@Cs@IeBYmAQwASUEcAQsASc@IiBYYCSEm@MGA}@Mg@Ik@KSCi@KcFw@qLiBs@MoB[_C]uB_@wCe@oBYo@Mu^yFu@MmB[_Dg@kEq@uAUyB]uB]kAOyASc@EQCaAGuAGoAEu@?cBDiGJA?a@@{FJsA@G?kBB]@aCFc@@wADS?U@M@c@@w@BaAAUAe@A]CG?[Cy@KeASKCa@Kw@S[Ka@Ma@KqEuAqBk@aAYkIcCECg@OuEsAsA_@c@Mw@U}Bs@mAe@IEy@c@]Se@YUSYUCCg@a@g@i@eAoAY]gAuAcCsCuBiCaBuBaAkAwAeBeAsAcAmAa@e@w@cAm@s@gBwBm@u@IIsBuCg@s@W[eC}CiAuAkGyHqCoDoBgCkAuAwBiCcEcFqDmEaD_Ey@aA{@gAwCoD}BuC_BoB}BoCiB{BGGmDkE_BqBKMgDiEu@_AyBkCmDiEoBaCIKiIaK_BsBwEwFwBkC}BqCcBsB}C{DiC}C[a@{D_F[_@W[qBeCyCqD_IsJwAkBe@k@KMsF}GgBwBMQ_@c@a@i@a@e@_@c@oA}Aa@o@IOS_@M]Ma@GUG[ACE[E]C]Ac@A_@Aw@AaAGuCCeAAc@Aa@?QAMAK?ACQCSGOKWKMGGKIOIQIQGWIs@Sq@Se@MICMAUCMCK?QAO@C?K?UBQBSDMDSHQJMJMJONMPOXS\\\\Q`@EFMTINKNIJGFOLYRWJQFKBQDKBQBU@g@@q@BG@s@@cBFS?oITW@u@BkABkADgBDE@U?_@@_@?W?OAMAWCc@GSCIC[ISGQISKSMWQSQ[Y_@a@s@w@_DiDY]Y[]e@QWQWEGWc@i@eAeCyEkA}BIQi@mA[{@Sg@Wu@Y}@WaAAISw@WmAWwAWoAQ_AY{Ay@iEm@}CIa@Q}@YcB]aBMi@M_@Sq@O]Q]Wg@e@q@a@e@{@}@wCoCY[_FwE}@}@sBmBwAuAgFcFUSYYQQiBgBq@o@e@c@wCsCk@k@k@i@KKg@i@qBkBg@e@{AyA[Yu@s@SS}@{@g@_@UK[Ko@Kc@AO?W@]BMBC@E@SF[L]TWRg@d@[XmBhBwCrCcA~@[Z_HzGQPIFoDjDoChCg@d@sEjE{@z@mFdF]\\\\YVuDrDUTqBlBa@^STOP[f@Yp@Md@Kn@Ch@AnAGxC?j@A|AA`AC|ECZGt@Kp@Ol@}@bDGPK`@IV_@hA[|@_@l@c@b@MNYRGD[NEBcCbA_C~@SHeBn@i@N]D_@F]BA?o@Bo@?m@EA?QCQCi@I]Kc@QUIk@YAA}@e@g@Y]SYOu@_@gCsAWO{@a@g@U{@U_@IKCa@Ge@GoACy@@u@BA?yCPg@@o@BQ@M@gFZyAFiBLaCLuDT}@DcG\\\\c@BqDRE?iFXmG\\\\{@FwKj@C@qFZ_BH_@@oDRI@Y@qAH[@{@AA?s@Ek@Im@Qe@OYM{@g@c@_@e@e@QSkAgBoAmBs@eA}DaGkAeBg@w@uAyBa@w@Ys@[}@Ss@]}A?Aa@qBKg@_@iBeAkFOu@i@oCS_AI_@cCmLAGu@}DY_BOu@e@{BMq@YgA_@iAi@iAMUSYGI]]c@e@OKQKi@[sDeB}As@_CgA_Bu@}E{BkB}@ICsLuFwLuFgLiFcHiDeAq@_@_@'}, 'start_location': {'lat': 20.1976355, 'lng': -100.1496991}, 'travel_mode': 'DRIVING'}, {'distance': {'text': '0.2 km', 'value': 212}, 'duration': {'text': '1 min', 'value': 24}, 'end_location': {'lat': 20.4419332, 'lng': -100.0715155}, 'html_instructions': 'At the roundabout, take the <b>2nd</b> exit', 'maneuver': 'roundabout-right', 'polyline': {'points': 'ohw{BpnxaRAE?AACAAAAACAACAAAC??AA?A?AAA?A?A?aBiB_@]OMOQECSQCEYWUW'}, 'start_location': {'lat': 20.4405574, 'lng': -100.0728934}, 'travel_mode': 'DRIVING'}, {'distance': {'text': '23 m', 'value': 23}, 'duration': {'text': '1 min', 'value': 4}, 'end_location': {'lat': 20.4420663, 'lng': -100.071685}, 'html_instructions': 'Turn <b>left</b> toward <b>Autopista México - Querétaro</b>/<wbr/><b>Jurica - San Juan del Rio</b>/<wbr/><b>San Juan del Río-Pedro Escobedo</b>/<wbr/><b>Tuxpan - Mexico</b>/<wbr/><b>México 45</b>/<wbr/><b>México 45D</b>/<wbr/><b>México 57 N</b>', 'maneuver': 'turn-left', 'polyline': {'points': 'aqw{B~exaRKLOP'}, 'start_location': {'lat': 20.4419332, 'lng': -100.0715155}, 'travel_mode': 'DRIVING'}, {'distance': {'text': '20.6 km', 'value': 20644}, 'duration': {'text': '14 mins', 'value': 843}, 'end_location': {'lat': 20.5583722, 'lng': -100.2242705}, 'html_instructions': 'Merge onto <b>Autopista México - Querétaro</b>/<wbr/><b>Jurica - San Juan del Rio</b>/<wbr/><b>San Juan del Río-Pedro Escobedo</b>/<wbr/><b>Tuxpan - Mexico</b>/<wbr/><b>México 45</b>/<wbr/><b>México 45D</b>/<wbr/><b>México 57 N</b> via the ramp to <b>Querétaro</b><div style=\"font-size:0.9em\">Continue to follow Autopista México - Querétaro/<wbr/>Jurica - San Juan del Rio/<wbr/>Tuxpan - Mexico/<wbr/>México 45/<wbr/>México 45D/<wbr/>México 57 N</div>', 'polyline': {'points': '}qw{B~fxaRORKT[lAQh@?@OTa@j@?@AD?B@FiAzAy@dAsNvRqEbGMNgF`H}@nAwLbPeYx_@w@bAuQjVkI|KaG`IsAdBkQ|UiI`LmEvEgHrEYNOJeAl@OJgB`A[P{@n@eAp@]TGDCBA?UNkAx@cFjD?@[R{@j@kAr@wJfGo@`@eHtEaGxDaEfCSLOJQHOJyCpBwE~CeD|B_@VkCzBgCbDyDxF_NzQwC~DkBhCKLsCxD{[lc@aPnToJdNuLhPOPEFABABEDUXsFtHSXaApAcI~KeAvAaArAa@h@_ApAs@`Aa@h@o@v@q@~@Ub@CD[j@g@v@oBzDwAxD}@hDuAzEcF~NM`@[bAc@vAeAfDY~@CD?@e@vAoBnGaBpEgAvBoApBgB~BGH_AdA{FfHuBdCiAvAgC~CQTkAxAo@|@{BhDeDdFqLjQSZ_AvA{@vA_AtA}@tA[d@gBlCaAzAQXKNc@p@w@hAs@bAaA~Ao@hAgAhBgAlBiAlBkAnBkAnBiAjBKPU\\\\g@|@kAnBkAnBkAnBkApBg@v@[j@y@vA{@xAy@vAy@vAy@tA{@xAy@xA{@xAy@tAw@tAy@tAw@tA{@xAg@z@SZw@rAy@tAy@rAw@pAU`@g@z@aAdBcAdBaAdBaA`BKPYf@OTa@t@c@v@GH{@|Aa@n@OZcAdBaAbBaA`Bg@|@U^w@rAu@rAs@lAs@lAs@lAu@nAs@nAu@nAs@lAs@lAq@lAs@lAu@nAs@pAu@rAu@rAw@pAw@rAy@vA{@xA{@xA}@zA}@|Aq@hAKP_A~AINo@dACD]l@Y`@OZm@`AS\\\\o@fAaAbBcAbB_AdBs@lAMT_A~A}@|AaA|A{@|A}@|A_A`B_A~A_A~A_A|A}@zA{@zAy@vAy@tAEHq@hAu@nAkEpHo@fAQXiAlBi@~@S\\\\qAxBsC`FeAhBqI`Oy@tAcAdBw@xA[h@'}, 'start_location': {'lat': 20.4420663, 'lng': -100.071685}, 'travel_mode': 'DRIVING'}, {'distance': {'text': '0.9 km', 'value': 948}, 'duration': {'text': '1 min', 'value': 56}, 'end_location': {'lat': 20.5637202, 'lng': -100.2306858}, 'html_instructions': 'Take the <b>México 57D</b> ramp to <b>S Luis Potosí</b>/<wbr/><b>S Miguel de Allende</b><div style=\"font-size:0.9em\">Toll road</div>', 'maneuver': 'ramp-right', 'polyline': {'points': 'yhn|Bt`vbRk@r@W\\\\SVWb@ININS^a@x@CF_@bACFOtAKn@UnA[fBAB_@fBADABAJCFMZKPOTa@f@WRm@d@KDQNiBx@wGnCwAn@gAh@'}, 'start_location': {'lat': 20.5583722, 'lng': -100.2242705}, 'travel_mode': 'DRIVING'}, {'distance': {'text': '20.0 km', 'value': 20029}, 'duration': {'text': '17 mins', 'value': 1017}, 'end_location': {'lat': 20.7062005, 'lng': -100.3444723}, 'html_instructions': 'Continue onto <b>México 57D</b><div style=\"font-size:0.9em\">Toll road</div>', 'polyline': {'points': 'gjo|BxhwbRq@X}B`AaPvGuHfDmGjC_@NaA`@gJzD}FbCyD|AiDxA_@N_@P{@\\\\yIvDcMnF}EpByKdFkAp@}@b@i@ZYNc@ZQLc@Ve@X]Tw@d@q@d@]No@j@{@l@sAx@{@p@m@`@u@l@c@Vo@\\\\u@f@_@XUNk@b@UP[TWROJQLYT[TURs@d@o@b@s@h@u@d@g@ZWPWPe@^a@Xm@b@i@\\\\e@\\\\IDKHMHc@Zm@b@YR_@Vc@ZgBnA_Al@w@n@cAl@q@j@yCtBo@`@gA|@yCtBsBvAgC`BwAfAa@Xa@Xw@d@i@\\\\IHg@^]Va@\\\\YL_@T[Ps@j@aBfA{@n@QL]TOJg@`@mAx@g@\\\\}@l@gAv@kCjBcZxS{DjCcD|BID}@n@gIzF}BzAaGnDkFzC{DxB]RoDrBg@XuQhKu@^k@Z[Rg@Xg@Xc@Xg@XWNSLWNWNQJUNSJc@TUNq@`@g@Zm@\\\\k@\\\\]Po@^c@Vi@\\\\SLcAj@ULoI~Ew@`@ULSLQJSLWNYPOJID_@ROHMHKDKHIDIBKHKDGDOHGDGDWLWNw@b@q@`@e@V]RWLc@Va@Ta@RKHk@ZYPUNQJSJSLKHSLQJKDMHIDSLQJIDKFMHOJSHOJOHIFoCzAgAn@q@`@E@]R}@d@q@^q@b@w@d@k@Zw@b@q@`@_@Pm@^o@^}BpAsAv@yCdBA@]RMHaCvAYPyGjEgAr@iAt@mEvC}I~F}X~QsGfECBcFdDa@XcElCC@WPk@`@eInFeAr@y@h@q@b@QJoAz@{AbAmAv@gAr@yJrGUNi@\\\\aDtBiBlA_@VcBdAcCbBcN~IaGrD_DhBuElCiMnHwPvJiC|AYPmC`BC@mEbCk@XsDvBuFbDwCbBaAj@kBhAeAp@e@Za@Z}@v@c@\\\\k@f@m@l@o@r@u@~@CDW\\\\_@j@oAnBgApBUh@m@pAgBbE_AzBQ^Qd@s@bBu@bBuBvEkBfEMXoBnEOZoIrRIR_BpD}BbFc@dAEHS^S^mA`Ce@~@CFk@`AMR[h@i@z@e@r@SVCDWZgDhEsE`Fa@b@q@p@MLuBxBeBfBoApA_C`C[\\\\YXgFjFgAhAwD`EsCxCaDhDk@j@w@v@ONqAtA_EdEqDtDA@?@uDxDyBbCSTWZi@n@u@~@Y^_AdAUX}@nAs@jAiBxC'}, 'start_location': {'lat': 20.5637202, 'lng': -100.2306858}, 'travel_mode': 'DRIVING'}, {'distance': {'text': '16.3 km', 'value': 16306}, 'duration': {'text': '11 mins', 'value': 677}, 'end_location': {'lat': 20.8158796, 'lng': -100.4462732}, 'html_instructions': 'Keep <b>left</b> to stay on <b>México 57D</b><div style=\"font-size:0.9em\">Toll road</div>', 'maneuver': 'keep-left', 'polyline': {'points': 'wdk}B|omcRqCzECBsBnDQVoCjEoHjLiBtCU\\\\mBxCaAzAsD`GmB`DSVcCzDsBfDk@|@U\\\\w@lAy@nACDCBa@n@MPiCbEWd@g@t@}AbCy@rASZ?@U^eA`B}BpD_@l@gC|D}A`CYb@}AxBORA?mB`Co@r@o@p@oBrByFjFKHKJCDWT}CpCGFSPGDQPk@h@k@f@s@n@qCdC_A|@KHgA`A}@z@{AtAa@\\\\sApAkC`CkBdBeA~@o@l@mG~FoDdDKHy@v@y@t@sGfGMJMLmC`CSR[XQPc@`@OLg@`@[V[VGFSNuAhAgBpAeAr@y@h@]TC@mAr@kAl@i@Xq@Z_@RkBz@WL_@P_CdAeBx@cAd@{@`@_@Pu@\\\\{IfEIDmAl@sAn@wAp@oB~@{At@OHo@ZQJ{BbA_@RoAj@oAj@m@XyB~@wCxAaBv@CB_@PUJe@RqDdBeD~AgAh@q@Zk@XuAp@aBx@c@VoAp@OHOJa@Tk@\\\\_DvB}@p@KDGD]VQNk@d@_Ax@iAbAyEjEsAnA_DxCYXEBqFdFwCnCaCxBoBjBg@d@iE~DWV_BxAuArA}IlIm@l@YXYXu@r@WTIJA?yHjH{BxBiEdEyGnGqFfFKHwFtFkAjAaA`AOPoDnDaD`DmElEwAtAgAdAEDuDxDyC`DGDQRmAlA_@`@sBtB}FrFaEdEeAdAaC~B[\\\\YXgDbDuNlN}BjBaF`E[V{@r@sA|@aAp@s@d@yA~@mHnE]TcDpBo@^]RcNlIyBtAsJbGaDnBsGbEqBlAOHMJqAx@aBbAQJMHqEpCA@sFfDqBnA}BxA[RA@}B~AiBvA_ClBwBjB}@~@{@~@A@UXWZiArA}DfFu@dAWZUZeArAoAhBMRk@fAm@rAo@|AO\\\\ABs@bBOb@Sb@'}, 'start_location': {'lat': 20.7062005, 'lng': -100.3444723}, 'travel_mode': 'DRIVING'}, {'distance': {'text': '0.3 km', 'value': 341}, 'duration': {'text': '1 min', 'value': 18}, 'end_location': {'lat': 20.8184517, 'lng': -100.4478001}, 'html_instructions': 'Take the exit on the <b>left</b> toward <b>México 45</b>/<wbr/><b>San Luis Potosí</b>/<wbr/><b>San Miguel de Allende</b>/<wbr/><b>Querétaro</b><div style=\"font-size:0.9em\">Toll road</div>', 'maneuver': 'ramp-left', 'polyline': {'points': 'gr`~BdladR_@z@Yd@[\\\\URWTA@UN]Pe@P_@Jg@JmB\\\\KB_BV'}, 'start_location': {'lat': 20.8158796, 'lng': -100.4462732}, 'travel_mode': 'DRIVING'}, {'distance': {'text': '1.6 km', 'value': 1572}, 'duration': {'text': '1 min', 'value': 68}, 'end_location': {'lat': 20.8313767, 'lng': -100.4421269}, 'html_instructions': 'Keep <b>right</b> at the fork, follow signs for <b>S Luis Potosí</b>/<wbr/><b>México 57</b> and merge onto <b>P.º de la República</b>/<wbr/><b>México 57 N</b>', 'maneuver': 'fork-right', 'polyline': {'points': 'iba~BvuadR_@I{BRc@?O@g@?MAUA[EWEYKc@OQG[O}B_AqAe@OEOCE?G@SGQGm@W}Am@eAc@qB{@eHyCCAqDsAaYuLwEkB'}, 'start_location': {'lat': 20.8184517, 'lng': -100.4478001}, 'travel_mode': 'DRIVING'}, {'distance': {'text': '32.2 km', 'value': 32213}, 'duration': {'text': '20 mins', 'value': 1228}, 'end_location': {'lat': 21.0792315, 'lng': -100.5150491}, 'html_instructions': 'Continue straight to stay on <b>P.º de la República</b>/<wbr/><b>México 57 N</b>', 'maneuver': 'straight', 'polyline': {'points': 'csc~Bhr`dRaDsAIEcHuCuB{@uF_CuF{BqEkBwIoDs@[gJwDaHsCmD{AuIoDm]uNuD}AsCiAUK{B_AmOmG_@QiHyC{Am@gCcASIs@[}EuBiEeBGCgAg@cCcAoCmA_@Q{Bw@_FqB_Bo@mDyAKEMEiFwBm@YuCkAuD_BcGcCiDuAiBu@aGeC_Aa@oD}ASIkAg@yAk@A?yB}@}Ai@gHgCcC}@cA]qEaBaMsEkC{@uHsC{@]IAeBq@aBm@o@Wu@Ui@SUIa@OaAa@qAk@s@[i@YEA}@c@yAu@CAk@YECa@Sa@S_KoFe@Wk@YqAo@aAc@gAg@sCiA{B_A{DcBoH{CKEaCaA{Ao@cGcCyJcEuB}@iCcAiAg@}B_A}@a@k@Q_AWm@Ic@CA?k@?o@@s@Fi@H{A`@a@J{Ab@eJfCqZnIuGhB}OlEa@LiD~@_RfFiNxDcKpCaCn@gGbBgFxA}@V{DdAa@LsGhBiBf@mD`A{Bl@gY~Ha@LyMrDe@La@La@JwLfDwKzC}EtAsQ~E{F`BcL~CeQ|EgJhCkCr@aIzBkAX_MjDcBd@_KpCkA\\\\aHnBgVxGiGbBoCv@gKrCoCv@iL`DgD~@_FvAeAXG@oFzAmCr@mN|DkBh@}LhDg@LsJlCi@NoI~ByHxB}I`C{Bn@_HlByCx@cAXw@TmFzAa@JqI`Ce@PeCp@yIdCyElAaHlBaHnBo@PiElAcOdEeFvAgCr@_@L{Ab@{F~AgFxAa@Ja@LsBj@{DfAePnEkD`AeFtA_FrAk@PYJ{@Z_Ab@[NOHKFq@b@e@^UPWVe@b@g@h@k@p@qBdCsDrE_LdN_NpPWZaHvIQRyAhBeEfFiB|Bw@`AkB|B]b@WZoErFmG`IkCbDWZq@x@wCrDsDpEcBtB}FhHaKbMmRvUaKjMwCrDqKvMuEvFgDhE]\\\\WXMJQV[^}LlOuFhHeKjMWZgT|WcNxPWZmIfK_BpBcCzCsEzFaEbFiLnN_GjHg@p@q@x@}Wh\\\\'}, 'start_location': {'lat': 20.8313767, 'lng': -100.4421269}, 'travel_mode': 'DRIVING'}, {'distance': {'text': '124 km', 'value': 123546}, 'duration': {'text': '1 hour 17 mins', 'value': 4614}, 'end_location': {'lat': 22.0365294, 'lng': -100.852543}, 'html_instructions': 'Keep <b>left</b> to stay on <b>P.º de la República</b>/<wbr/><b>México 57 N</b>', 'maneuver': 'keep-left', 'polyline': {'points': 'e`t_C`zndRiB~BQREDMLaCzCIHwDxEqBfCcCtCoEvFY^YZaBnB_CtCSVUXuCnDoEvFkJhLcAlAo@v@_@f@kAvAuMjPg@n@gAtA{BpCeApA_BpB_BnBW^_BpBg@h@e@b@q@n@k@b@a@VOHo@\\\\sAn@cBv@wB`AgClAcChAc@P}DlBSJ_@P}@b@cAd@}@`@mD`BiEpBiChAuEvBgEnBwFlC_FzBaMzFaDzAaChASH}JvEUJaBv@iV`LuCtA_@N_DzAgAd@mD`BuExBmMbGoIxDs@ZMHe@RwI~DqFhCyEzBmD~AoB|@yCvAo\\\\lOeIxD_SfJaGpCsDfByBbAeHbDa@Pu@\\\\kAj@qAj@eBx@qAh@gAb@qA^w@Ru@Nq@JgC\\\\}C^kI`AsFl@c@FeALiLrAqI`AyGx@A?mEf@qIbAoFl@iH|@qANc@DgFj@oD`@iHz@{Gz@sD`@cCXyGv@uAPmHx@iLtAoAP_O`BgALM@wUrC{WzCwFp@a@FiD^{@LaBPaTfCqANaI|@gI`AuAPsI~@SBsH|@iS`CK@oANgFp@eALoD^{Dd@SByHz@mFp@_CVuIbAkD^uFr@iI~@cHx@[DoI`A[DaBRiBRgIbAoEf@c@FYDG?wPpB[DwGv@sRxB}Fr@a@D}Ej@uEh@uFp@_BRkD`@A?oD`@mAPyI`AeMzAaEd@uC\\\\cCXy@JyQvBmJhAsGt@}ANcALaRxBeD`@qPlBw@Jc@Fc@D_D^{Db@g@HcJfAoLrAeBTcCXaFl@mGr@aBR{C^qEh@iLtA{BVoALUBcEf@eD`@cALoKlAuDb@oAJc@BiBNcBNsCTy@HmANmBReBVy@Lc@HwAVqB^eEf@eCXuDf@kBVc@D_BPs@Hs@Hy@JoD^iANaN~AgI`AgD^wDb@oC\\\\yCZI@gEh@kARw@Pg@Lw@Xq@Xc@Ra@Tw@h@q@f@}@~@w@~@W\\\\mAxAm@r@eD~D]`@_@d@]^mMnOyDnEsP~R}@dAqJdLsA~AqB`Cw@~@sFrGeCvCu@~@kDbEiBvBONuA`BgE`FGFGJiArAoAxAsCfDiHpI_AhAkBvBw@~@gBvB_M~NiD~D_BlBsQdTo@r@}F`HsA~Aq@v@_CnCaGfHeMdO{AdBkDdEu@z@y@`AiArAiDdE{EvFiD|DcAjAgD`EWZWZuJhLcM`OgCxCGHaKtLe@f@MP_LvMWZkNrP{G~HqGrHcL`N}OhRyLtN{F|GWZaBnBmDdEWZiArAgBvBKLkBxBY\\\\}EzFiArA_BhBwClDkB|BwChDQR_@b@YZsBdCqAxAEFQRgAtAg@h@KJc@f@u@t@gAt@oAr@cBt@iC`AmG~BqEbBiC`Ag@RsLnEeA^_@NuHnC{FvBcDjAiLhEmI`DqDpAmOxFsXdKmI~CoJjD{DvAc@PaA^oAf@kE`BkE~AmDpAqFtBqBr@a@NeBn@cFjBcE|AuBr@uBp@wCv@mIzBiDz@aLtCeItByBl@wBj@wO|DuIxB}MhDeDv@gDz@eFpAeNnDiBd@mPfEs@Pa@JkD|@mD|@gEfAa@JyElAuBh@qA\\\\{A^i@LsBj@cAVwGbB}I|BwBj@a@JmHjBmG`BkJ`CgJ~BqMhDeDx@gHjBuBj@y@PwCv@a@JA?}I|B_Dx@yD|@yCt@uI~Bc@JkLxCgKjCOBMD{@TiJ`CaCp@mJ~Be@La@JmCn@_D|@sD|@eG~AoEhA_EdAo@PaGxAiDz@k@PsBh@{@R}Ab@}@RcBb@}MjD{L~CmLxCMD]Hqg@pMod@lLmD~@qO|DmHhBoO|DeTtFyAd@eA^u@VcA^oBx@iClAwEtBcIrD}@b@eGnCeGnCUJID_F|B]P_@P_MvFOHKDe@TkDzAaAb@aAh@gNlGaDxAq@\\\\eDxA{KbFcJdE_@PeNlGiKxEiD|Ag@Pg@PG@YFc@JcAL}@Dw@?i@Ck@Cm@Gw@OkAYi@Ma@Io@OaCq@cCk@aAUiBc@k@Oe@MSGa@KeCo@cAWsAW_@Ga@Es@Ci@A{@Bm@Bk@Fm@Je@J_AZm@VcAn@y@h@GDeBhA}@h@g@Vm@Xo@Vw@RaANc@BQ@oA@{ACq@GcAIaDYkE_@gCOyA?cCBcBHc@BC?qDXoAJy@HgK`A_AHuMjAiBP_Ir@aBPiDX}CX}D\\\\}D^K@uEb@kCVA?c@BqE^WD}ANA?iALoBTuATo@Lg@L_@J}Ab@mAd@uAf@aC`A_@NEBwClAC@_@Pa@N_A^C@]LuAh@g@Na@J}@LkALc@B[@{@@c@A[Aw@Ig@G_@GA?cCe@sCg@gBY]GEAiCe@c@Ga@Ic@IkAK_BEeB@c@@o@DsDd@gBX}J`Bc@FsB\\\\gC^o@HK@gBVGBeFz@e@H{InAwEx@mDj@_BTeAPe@FSBs@HE?_AHaAB{@Au@C[C[Cc@E}@MeAUiBg@eDgAiA_@}Bw@q@UqC}@oAg@i@UeAk@}@k@eA{@oAwAw@eAg@}@g@_Ac@}@Oc@KWyBuGm@cBMc@a@iAOc@wBqGgNaa@cCgHGSqAuDOa@}@kCi@aBaC_HiD}JiEiM{AmE]eAkD_KyDaLMc@CEo@kBa@qA]kA}@iCy@mBo@eA{@kAo@s@MOKKe@c@_@W[SeAo@{@a@a@Qi@U_@QwDaBwF_CuB}@_@QcOoG_@OeQqHkBs@_CeAi@Sc@Mo@Qg@M_B_@eGoAsIgB{A]sCm@SEqFiAw@QoFeAa@Kc@IsGsAcAUmDu@a@IsAY{Be@aASoBa@kLcCgB_@mCk@_@Ia@I}ImBgB_@{@Uo@QqAk@aAg@cBy@w@g@iAs@w@g@sBcBiB{AeA{@QM{BkBgB_BUQk@e@s@k@YUu@m@{E_EiCyBuAeA]WcEkDmEqDkA_AeBwA{BiBqAiAgDqCiB}AkJ{HmCwBo\\\\oXsEwDwNuLgCyBuR}O{BkBwCaCyAmAWUi@c@iGcFKI]]GGgBuAAAkA_A[W[WqAcAwBgBi@c@[Qy@c@g@Wm@U}@Yq@QMCSEKC_@GaBSE?o@Ee@Cc@?kB@s@Bq@FSBUD]FI@qAZ{Ab@wJnCkMhDmGfBcG`BmD~@kEpAuBj@cARqAPs@Du@Bg@?c@?C?_DA}CEqC?iDCyCAO@{FCy@CaB@_HA}DCqJEeB?cLC_EAc@?sDCc@?gSIc@A{FCc@?I?uGCc@?}PGcKE}CAuZIc@?yAA}KA}DCwECwFAy@?q@AoC?wECE?]?c@?{@?y@?m@Bs@FgALs@JaAVcA\\\\g@Ra@RaAd@iAv@i@b@g@h@iBrBeBvB_AjAWZUVCD}@hAsA~AcAjAEFsDjEi@p@WZgFjGmA|A_E`FuBbCu@x@sAhBYZyBbCaD~Dg@p@[\\\\aBpBY\\\\}@hAiAvAqGzHIJkDdEq@|@Yb@{AdCWd@S^OXCDs@~Am@tA}@vBCFq@rAQZEHKRIJ_ApAkA|Aq@z@m@v@iAtAKJqCtDGHWZeAvAuBpCa@f@mChDUXA@cBzBaAlASV_AlAw@x@o@b@s@Xs@Pq@N{@Ha@@u@@s@?m@Es@GEA[GUEm@Ma@Og@Qa@Si@[YSYSi@g@{@}@kAkAoAuAs@w@iAiACCs@s@_A}@o@e@e@[g@U{@YUGa@IGCi@K]EWCc@AgACWA{EEA?eEIsEEC?_FIaDCuEGeAC}AAeBCmBEi@A_@@y@Dq@HcARo@Rc@Pq@\\\\q@`@UP[Vi@h@]`@a@n@[h@g@bAmBrEkBlEUh@cAfCCDGP{@jBoFtMUf@ADgBdEYp@eAfCO^_@|@k@hAS\\\\[d@STUZUVg@h@e@d@i@d@g@ZqBjAi@XiDnBa@RkBbAeB`AmEbCaB~@cB`AaAd@UJaA`@m@Pg@NQDc@He@Jg@Fi@Fg@FsAJO@cBL_Eb@}D`@eAJuALuAHiABaD@o@?o@?I?wA?kC?sC?{E@gF?uA@cA?gE?_B?_F@C?oDBeDFQ?yBD}BJk@D}@JgAN}A\\\\qA\\\\wBp@uB|@kBz@qAn@k@Xy@`@uAr@k@VeBx@u@`@c@V[PWPEBmBtA_BxAiE~DmG~FiD~CYXmG~FgC~BiE`EkH~GsFdFYXkBdBeB~A{@z@uBlBuArAy@t@u@r@mEdEc@`@eC~B}DrDq@n@i@f@oDbDa@^oEfEYVs@p@w@t@[VkBdBgC~BoDfDqAjAu@r@kBdBSRmH~GaDzCwArAgAdAGFyCpCsFdFSRGDu@p@cA`Aa@\\\\cHtGCBwElEcCxBqAnAaCzBa@^cB~AGDm@j@}@z@gAdA}@x@[Xm@j@}@x@wBrBMJSRYVcEzDoG~FuDlDqAlAWVA@_@\\\\sAnAe@d@gAbAyGjGyFjFo@l@eGxF}@x@YXkE~D{EpEwCpCuBlB{@x@yCpCoAjAqA|AcB~BaBxCeA~Bi@`Bk@fBIZ]pAYpASdAo@lDWxAc@`CId@o@lDCJIb@ShAAHa@bBQn@KVIRe@hAk@dAm@~@]^e@h@i@f@}@t@uA`A[TSLg@\\\\]R{@h@gH|EYPCBmG`E[T]RGD{E`DgIrFqBlAkAr@EBsB~@aA^yBt@cB`@yAZgAPqDb@cCTmCTg@Dc@DuBReDZG?iLdAsE`@qEb@c@D{@HmE`@_AHiHp@sOvAu@HiMlAyALiHl@wRjBgK|@aa@tDsGj@s^dDcDZwCViAJiIx@sIr@uLjAqDXg@Fc@DiBPc@DqBRaBNq@H}CXqCb@I@WFc@H]HC@iAZcBf@_Bj@aBv@wCnAeIpD_J`EgMtF{EvByAn@wEnBeAd@aFzBq@Z[LaIpDeGfCuCrAID{EvBoAf@WLcChAo@XiBz@a@P]NaDvAqJdE{@`@}Ar@{ExBy@^oItD_@PaL`F{GvCkEpBaCdA_@NwErBcEjB_QvH{LpF}X`MgEjBsIxDe\\\\xNkJ`E_Q|HoH|Ca@Pk@VQFy@^aIpDwUlKcF|BcDvA_KlEqAl@g@VeAb@c@R_DvAcNdGsAl@yB`AoKzEsAj@kAh@oEnBsD|AeAd@gCjA[LuCrAqRpIqAl@oGpCiAd@oB|@SH}@\\\\'}, 'start_location': {'lat': 21.0792315, 'lng': -100.5150491}, 'travel_mode': 'DRIVING'}, {'distance': {'text': '1.0 km', 'value': 1021}, 'duration': {'text': '1 min', 'value': 49}, 'end_location': {'lat': 22.0450328, 'lng': -100.8493828}, 'html_instructions': 'Take the <b>Carretera Federal 57 de Cuota</b> ramp to <b>Matehuala</b>/<wbr/><b>Zacatecas</b>/<wbr/><b>Carr. Federal 20 de Cuota</b><div style=\"font-size:0.9em\">Toll road</div>', 'maneuver': 'ramp-right', 'polyline': {'points': 'i_oeCjwpfRY?QBg@J_@Jm@F]BS?a@Ae@Ca@G[IWG_AY_C_AeBq@mCgAkAe@{Am@yAk@k@SkCeAwCmAeDoA{Ak@i@G'}, 'start_location': {'lat': 22.0365294, 'lng': -100.852543}, 'travel_mode': 'DRIVING'}, {'distance': {'text': '32.3 km', 'value': 32280}, 'duration': {'text': '22 mins', 'value': 1331}, 'end_location': {'lat': 22.3268679, 'lng': -100.7997013}, 'html_instructions': 'Continue onto <b>Libramiento Ote de San Luis Potosí</b>/<wbr/><b>México 57D</b><div style=\"font-size:0.9em\">Toll road</div>', 'polyline': {'points': 'mtpeCrcpfRYMa@O[Mg@Os@]yCmA_c@aQ}PaHc@SyRyHu@[og@mSaFoBaOaGo@WICkNuFiFsBQIEAWMwEcByDgA_Cm@uE}@mDi@iLoAgBSwN}AaXsCwLqAwJcAc@Gg^uD{i@}FoAMYCsGu@YCcBQmN}Ac@Ec@GE?aFk@cBM]EKASCwFm@gBSkD_@OAkGq@kAMa@E}BW{AOwEi@_AIQCAA?@UEoBUeBOsC[c@E{Gs@QCgE_@YECAUC{BYwC[a@EcFc@M?C?SAmBKqAAeA?QA{@@c@?iBHc@B_DLu@BaCZkAJ{APmAPk@Hg@HaADaAHM@cAJ]Bc@DaAJ{@JaCTiALaD\\\\E@yBTaSpB}BTiRtBoBTUBa@F}BRaE`@C?iHt@{BTA@a@BuEb@}ALyC^c@FsCXqBT{ANaCVgBPoBRu@FaGp@oALiALeE^mCVe@FoEb@mALcFh@SBiEd@uALo@Ho@FaDZa@Fc@D}CZgCVeAFgBJyADwA@{D@{@Cu@CK?SAoDSiAGkAIuAIqAIsCQi@EqAIw@EqAIwAIoAIo@Eo@C{AIkCOw@GaIq@oAIcJm@oEW_@AwEUe@CmCOeGa@}AK[CqCOCA{BOaKo@{Ik@iCOmEYqCQmAIs@EyCO]CmAKKAeAGqAIy@I}@GKAeAGiAG_BIuFQm@CmDIA?a@?qCEeACaFGiFGG?c@AkAAu@?M?g@?eFGmDGsECA?_DAy@?wCE_@Ao@Aa@?A?cBE{AAw@AiAA{@Am@@sCC[?AAiBEc@AA?y@CcEEmDEy@C{@CkAAYAw@AoACoA?{@BeA@K?u@AqAAaDGmACOAoDGs@A_@?q@AcCAqB?iFI[?yAAG?e@?u@?aAAaGKgFCK?W?KAc@?yFGaGGgAAM?aCEgAAwEGM?U?MA}AAiBCc@As@?c@Aw@A[AgDC_JGuA?_B?cIKc@AyBCeKQo@AgBC[Ac@COASAsAKwAKi@Ga@E_@EiBQg@Ec@Ec@CEAqB[qB_@oAUa@Ig@KuDm@sAWq@MaB[iASqAUaAQa@IeASaIuAyB_@IAa@I}AWqAUa@Ia@IgEw@IAa@IqEy@a@IoDo@aCc@uCi@aEu@oCe@a@ImDo@{Ba@s@Ma@GmDo@SEwB_@a@Ic@Ia@IsFcAoAUqAUeGiAiB[a@GiB[a@IqDm@MCQCeASiCe@kCg@iB]a@IIAiFaAa@Ic@I}E}@w@OkEu@oKkBsAWc@GuSuDmHwAmLqBc@G{I}A}AWoAYa@K_AS}Cw@QGsKeD_@MoFaBoCy@oJ{Ca@McA[gCy@aBg@oIkC_@Ma@MuHaCiEqAeBg@_@MICWIeCy@a@Ma@Mo@Sk@QeBg@aEqA}@WcBe@GCu@SoCq@c@M}QuEgBc@SGyEkAUGcAWcRsEa@KWG}FuAmHiBe@MIAWIcBa@cCo@YKMGo@Wm@[}@i@cAu@q@g@}AgAe@Wc@UYMQEKEKAEACAG?U?'}, 'start_location': {'lat': 22.0450328, 'lng': -100.8493828}, 'travel_mode': 'DRIVING'}, {'distance': {'text': '79.0 km', 'value': 79004}, 'duration': {'text': '51 mins', 'value': 3085}, 'end_location': {'lat': 22.9116585, 'lng': -100.4737018}, 'html_instructions': 'Merge onto <b>Puente Barranca 1</b>/<wbr/><b>San Luis Corcovada</b>/<wbr/><b>San Luis Potosí - Matehuala</b>/<wbr/><b>México 57 N</b><div style=\"font-size:0.9em\">Continue to follow San Luis Potosí - Matehuala/<wbr/>México 57 N</div>', 'maneuver': 'merge', 'polyline': {'points': '}uggCbmffRYI]E[CWAi@AsACi@?c@?_B?qA?m@A_@C}AOs@MsAUqAWiAQw@M}AUmBWmBUuBUSCgAMMAoAO}BWiCYsB]i@Gm@G}Ei@uH{@cBSoN}Ac@EgCYwBWaEg@w@KA?mFi@{@IyEu@aCa@oAWsBm@yAc@OEeA_@oAg@_@QcDyAMIiCmA}GcDsG_DeB{@kEuByE}BmAm@oB_Ao@[}C{AkGuCgFiC_Ae@_Bu@QKKGKEsBaAMI}BgA[OqAq@_CeAgCeAEC}Ai@mBo@oA_@qD_AoAWa@ImDu@oE_Aw@SoEcAC?IC{Cq@qCk@QCi@M{EaA{Co@y@QoAWa@IiFgAICa@IqFkAuEcAQEOEoE_AcAU{D{@kDu@SEyBe@aAUg@Mk@QiAa@[Me@QiAo@iAm@y@g@uAgAu@q@KKgAmAo@w@e@u@OQIOGKkCwEsByDAAoBoDyHmNS_@iBeDiCyEg@aAS_@]o@q@qAYg@aAqBgA{BYq@Sc@cAaCi@qAKWg@uAi@yAm@cB]oAMa@M_@AGe@{Ay@}CUcA{@oDg@sBw@iDQq@Kc@iAeFaAgEi@cCCG{@wDYqAWcA_@cBKi@gA{EKe@s@_DESw@wDs@{DOcAIe@Kq@]qCW{BiAsKoBqQi@iFWyBcAuJc@_E_@sDg@wEI{@Ee@EW[qCU{BYaCM{AAQS_BQ}AMoAGc@Ks@Mi@M_@Sm@Qa@c@}@_@i@i@q@o@k@iAcAMM[WoBaBoBaB}AqAm@g@kCyByAoAIGiDuCqC}BiCwB{AqAqBcByBgBEEgB{A[Ys@m@qFsE_BuAoAeAoDuC}AsAeA{@gA_ASSaCqBqBcBcBwAYUeA}@aA{@CAkAcAoAgAa@]m@g@mCuBkAy@iAs@iAo@qAq@aAe@mBy@}@Yw@Wu@UeBe@eAU{AY}Ba@gAOa@Go@KcFu@qB[c@GiAQ_Fw@cFw@eAQ{Dm@qB_@QEaB[mAWaBc@_Be@{Ae@uAg@QI_@O{@_@cBu@_Ae@mAm@iB}@eAi@KGQKc@S_Bw@QKqAq@s@]wLkG]Q{GkD]QeIeEiCsAmCwAiBcA]QAA{@g@aAm@mBmAyBwAuA_A_As@[Uw@i@qAaAGEiBuAwC{BQM]WsDoC[UoCsB]W[UqCsB[WoCsB]UiBuAg@_@sAcA]W]UGEuB{AmE{CgBmA{A_Aa@W]SOIuCeBo@_@gAq@iAq@sBoAcCwAoBkAa@WsCeB_@S_BaAYO]SmBgAiC{AwBqAeDmB}@k@cF}CiEiCw@e@_@SgAo@wCcBaFuCGEgBeA[QkBgAkKkGCCYQcTgMmBiA_Ak@{BmAgAk@aBw@qAk@SIiBs@qAe@aBk@e@Oq@SyBo@cGeBaEiAeD_AsBs@u@WeAa@{BcAsAu@[SgAm@mAs@_CaByAgAsBeBqC{BkDoCa@[{AmAeCsBSQYSsAgAuAeAeAs@eAo@aAc@gAe@yAe@QGOE{@WaAS]Gy@M{@MgAImBOeEGk@?m@?}BCgBAm@Ac@AkAA{CEmDGuBAoBAoDG_D?aAC{@Ae@Aw@Ee@Ey@KcASgAYoBm@{MaEuH_CuJwCuM_EwDkA}JyCmGoBuFcB{PiF{FcBwh@_PuGsBa@MkIgCkDeA]KiNiE_P}EoA_@yTeHeIcC{C{@kH_CsBk@{C}@i@Qk@SkBk@kDgAkAa@y@_@s@[u@_@}@i@cAs@YSgA}@q@o@g@i@kA{Ao@_AiAeBs@wAGOIQiBkEiDkIaB_EO_@qBwEuGaP}KgXaF}LQa@{BsFcI{R]y@uKwWaGuNoA{CiFiM[u@yHkRiBcEmDsIOa@_KmVcEcKsB_FeBeEs@iB_CwFwAmDiBoEeG_OaCwFwDgJmAuCg@kAk@uAeDeI]y@Sk@cFaMqB}EyAqDiBgEaDuHyCoHcF_MeMwZQa@cHwPuBgFc@gAcF}LwBoFmBqEyCmHkGmOe@oA}DoJcEaKiBqEsC{GeCiG}AuDo@}AQc@uAeD{@wB}CoHeAqCc@iAwA_DO]gCqGkBuEkAwC]}@aEsJyAkDM[o@}Ag@iAq@kAc@s@eAuAKMKMeBuBeBsBkIaKwTeXwDyE_BqB{DuEeBmBu@s@a@[g@[sAo@_Bo@QIQGa@Ok@UwAe@WIiEeBgCaAmDsA{GgCiCgAq@[{@e@i@_@q@o@sFeGe@e@OOY[_Aw@oA}@cAq@cAk@_Aa@]OqAo@y@c@CC{CwAy@[sFiCwP}HqVkLaKaFsAk@mCmAa@Q{@[mAa@a@Iy@QkAUUCwAO{@IeE[sMcAiCWu@GuAKwF_@gLcAyFe@gAIa@EsDYa@EgKy@c@EcJs@cBMaL}@sMeAoDYcCScGe@_E]yPuAc@EuBOiBOeBO}@Gi@E{@I{@Ic@E[AYEyAMkAIyBSsCW[CYCkAKe@Cg@Eo@G_@Eg@C}@IQAkAIwAMi@GaAGmAK}AM_AGm@GkE[m@G]E_@G}AUa@GqA[kBi@o@QyCy@oGgBEAgAYaEiAiA]{Cy@_AW{Bk@mD_Aa@Ma@Ka@Ko@Qe[sIsBi@qF{AuCw@w@UA?gA[sCu@e@Mu@Qm@Mq@Ko@Im@IiBOaEWeG[iH]mMk@_YyA_CKqk@uCkIa@kES_H]uEUaI_@A?c@CUA_GYqMo@}TkAyESmGYoAG{Jm@mKe@mAEmk@sCiIc@_Nq@yNu@}Je@yJe@{AK{Lk@yFYc@Cqb@yBiES_BIw@EgXqA{EUo@Em@Eu@EgDQgCOoj@kCaAG_AGcAEcLm@}H_@mCM_^gB}CM{XwA}BK}Ha@mAGcIa@_S_AmMo@oBMoEYac@sBmGYcBI{e@_CoAGeAE]Cu@EkRaAgAGmJc@a`@mBKAok@uCgKg@wCOgNo@kFWw@Eu@EqDSac@wBok@wC_Mm@iACqBKuEUaI_@]CE?sIc@{AIqh@kCgXsAgAG_Pw@_AGc@Cc@CwG_@}Ce@WE_@GAAc@IuA[wBi@aBc@eCo@wGcBiBg@gIsBy@SaDw@mBi@mA[YG]Kc@SiAg@s@_@{BqAc@]'}, 'start_location': {'lat': 22.3268679, 'lng': -100.7997013}, 'travel_mode': 'DRIVING'}, {'distance': {'text': '78.2 km', 'value': 78184}, 'duration': {'text': '47 mins', 'value': 2842}, 'end_location': {'lat': 23.5880528, 'lng': -100.6330423}, 'html_instructions': 'Keep <b>left</b> to stay on <b>San Luis Potosí - Matehuala</b>/<wbr/><b>México 57 N</b>', 'maneuver': 'keep-left', 'polyline': {'points': '{|yjCrwfdRMI][iAgAgAcAcAiAoDsDmAqASUwDcEiCqCgAkAuD_Ek@o@{EiFY[}@cAoByBgFsFY[eAgA{@aAQSiAkASW}FmGoAwA}FmG]_@[YuBaCc@g@c@e@a@c@iAqAAAsAiAMKi@]_Ac@c@O_@MA?a@KWGu@KKAUCoAMsA@cABm@Lu@Lg@LA@c@JSJcCpAMJsB|AmAdAsBlBu@n@y@j@m@Z{@\\\\kDt@c@HwDx@y@Na@H}GnAMBoGjAuGlAeARyHtAmDp@uHtAqHtAo@LeOrCkCd@a@Hq@LyAXqRpDM@UDKBmKnBs]tGsAT_IvAej@~JkATm@LcNhCkWzEy_@hHoIxAgj@hKij@bKgj@dKsVrEcHrA}E~@qB`@aLpBcHnAuI`BcCd@oEx@y@NqI`BcGfAij@dKaUfEcT|DwVtE{HxA_@HsGlAcDl@eIzAe@HKB}@N}E~@wB`@}AZoCf@iEv@qJfBaAPkF`AiUfEqE|@oEx@mARSDqHtAyCj@w@NWFgARmATcCd@k@Jkh@rJ}@Psd@pIsDp@gDl@sCj@_Et@gBZkQfDaLvBeKlB{LzBcCb@ke@~Io@JkB\\\\ca@rHkF`AkF|@uE|@ej@dKid@lI_Er@gDn@eBZoMbCeFbASDcEr@sDn@sAVA?s@LwIhBkHnAaEt@{XfFoVpEoEx@{UjEcHtAuCj@sSvDcSrDoATcf@~IiARm@LkCf@q@Nc@HC@kNhCwAVoF`AyCj@sJfBkj@bKcj@fKej@dKoNhCcHnAuQdDiAR_MbCwGjAiNfCyL|BmQdD}IdBsCf@sDr@qRjDcDl@wGjA}E~@aVtEyKlBij@fK_j@~J_Cb@ud@xIaZlFkF`AeGfAa@F{GtAoa@tHg{@|O{W~Em@Jeg@bJiAR[F}i@nKiFr@qGlA[FyGnAqKrBgARe@L]Hu@N{LtBkj@hKgGhAc@Hu`@pHeSpDqF`AsFbAYFa@HqDr@uB`@wE~@gHvAgPzCqIxA}L`CyB\\\\aDp@}GhAmJfBcDl@aCh@eB\\\\{B\\\\eDj@oAVyDr@{Cn@{AZcBZq`@jHeBXgARe@HqDt@ye@zIqCd@_AP_B\\\\m@HcEt@o@Re\\\\dG}P`D}Dt@_HrAQBwEz@{@Po@Ls@JA?_@FC@mATo@Le@Hk@Jke@zIqNhCuMbCm^~GqDn@gEt@oCj@aEt@sAX}Cn@q@LoVnEwJhB}MbC}H~AsEz@oJdB}I|AwKvByE|@i@JiEz@{c@hIwHvAaJfBoUfEkM~BE@u@NkCh@kATa@HeARs@LoCh@iB\\\\cF|@oFbAsCh@y@NyFbAaCb@[FqWbEeMvByCj@m]pGkCf@s@LiARmEx@qI|AoHtA{IbBqP|CkB^gF~@C@qI~AuCf@a@HmDn@uGpAc@Hw@NqAX{N|Ca@H_L`C_L~BaIdBw@NcIdBqJnBk@Lo@NoAV_APiAVo@LyDx@E@wBb@cB^s@LyDx@_Dp@UFy@PgGtAuGtAiCf@sE~@iDv@uDx@gCf@{EbA{Cn@cC`@cCZuBPmCVmQfBc@FeAJc@DwFj@gAJa@DuEd@sOzAiFf@a@Dg@DmO|AMB}Hr@ck@tFgFd@gGp@q@FuGn@kP`BgWfCkAJi@Foi@lFyEb@c@DOBu@FmCXc@D{[bDmANeAJ[BqAL_It@wCTuKjA_RhBWBkJ|@i@FsBR{D`@eFf@kYrCI@eNpA}CXkD^}KhAoVzBiLhAE@]DeEd@mE^_OxA{[bDuO|AyQbBmANmLlA_CRiD\\\\w@Di@Bq@@w@AoGGeBH'}, 'start_location': {'lat': 22.9116585, 'lng': -100.4737018}, 'travel_mode': 'DRIVING'}, {'distance': {'text': '4.0 km', 'value': 4023}, 'duration': {'text': '2 mins', 'value': 149}, 'end_location': {'lat': 23.6159502, 'lng': -100.6088403}, 'html_instructions': 'Slight <b>right</b> onto <b>Lib. De Matehuala</b>/<wbr/><b>México 57D</b> (signs for <b>Saltillo</b>/<wbr/><b>Monterrey</b>/<wbr/><b>Nuevo Laredo</b>)<div style=\"font-size:0.9em\">Toll road</div>', 'maneuver': 'turn-slight-right', 'polyline': {'points': 'i`~nCn{eeRAACCAAEAE?GAg@CcAGcBEo@AMASAcDScAQUGs@QuBy@[QqAu@_BsAKIoG{Fq@k@SOUS_CuBoNwMqAmA[YwHeHsKsJQQ[YwLsK}CwCqOwNyIeJYYsAoAiF_GsP_RiEuEmAkAaBeB'}, 'start_location': {'lat': 23.5880528, 'lng': -100.6330423}, 'travel_mode': 'DRIVING'}, {'distance': {'text': '10.4 km', 'value': 10444}, 'duration': {'text': '9 mins', 'value': 523}, 'end_location': {'lat': 23.707014, 'lng': -100.6121209}, 'html_instructions': 'Keep <b>left</b> to stay on <b>Lib. De Matehuala</b>/<wbr/><b>México 57D</b><div style=\"font-size:0.9em\">Toll road</div>', 'maneuver': 'keep-left', 'polyline': {'points': 'uncoCfdaeRq@q@a@c@EEgAkAiF}FqCkCMMmBsBeAcAw@}@o@w@qDmD_Ao@CAq@a@g@UMGsAg@mA]oAWsAOy@E_AC{B@sCFI?i@@sDFA?s]j@kGLmENoCHkDJuCLsAFqGf@Q@Q@cJt@ig@|D}BPoM`A_AFcHj@qDZoCTsGf@gF\\\\u@FuE\\\\iBLa@DcIl@qDXiCRgCVqEb@wGp@uAJmBLiDRcG^wAHaL`A{AJ{Gh@a@DsNhAc@D{Gh@{DZwRzAgAHeKx@aIr@qDZyPtAc@BgAJc@Ba@DqDZc@BsGh@oOhAiBLkBLc@D{E\\\\mEh@e@FoDTcAHiAHgAHgKt@c@BkBLa@D{BNkBNcAFC@c@?q@@y@?c@Aa@CwBM[E]G}AYm@Oc@K{Bg@mAW'}, 'start_location': {'lat': 23.6159502, 'lng': -100.6088403}, 'travel_mode': 'DRIVING'}, {'distance': {'text': '181 km', 'value': 180767}, 'duration': {'text': '1 hour 56 mins', 'value': 6989}, 'end_location': {'lat': 25.1000298, 'lng': -100.6421186}, 'html_instructions': 'Merge onto <b>Matehuala - Monterrey</b>/<wbr/><b>Matehuala - Saltillo</b>/<wbr/><b>México 57</b>', 'maneuver': 'merge', 'polyline': {'points': 'yguoCvxaeRcCa@i@IqAO_AKu@GiAOkC]YEIA}Bi@uAa@sDwAgDqA}Am@eHqC{Am@kEcBwD{Aa@Q_@MAAeGaCa@QcHoCcDqAaBo@sCiAcFsBo@U_E}AuDwA{MiFqCgAcBq@cCaAyCkA{JyDUKgIaDi@SWK_@Oa@O_@O{@]gBs@ICiAc@{EoBUKgAc@eFqBuGiCcDoAUK}D}AcBi@ECoAg@sMkFUIIEUI]Oq@YMEmGeCoHwCgIaDaK_EaOcGaA_@cAa@cHmCCAeJmDoEeBiKaEcEaBaUeJwAk@wEmBqPsGkOcGaSaI_LkE}D}AsBw@cFqBKEUIaAa@iEcBm@UkFwBs@WkFwBg@SiIcDeFoB{Ao@_@OaBq@yEeBeFoBeFoBaBo@mM_F_@OcBo@_DmAaBq@aA_@_@OkGeCyAi@c@QUIiGeCOGqCgAaDkAcBs@iHsCaEaBaAa@SGcAa@gAc@cE_BcDqA_FoBwCoAc@QOG{B}@uCqA}A}@OIOGiBiAe@YgBwA_BeAcAs@iBsAcAu@uByAECu@i@[U]Uw@i@oB_BcA_As@u@e@o@]i@MQm@iAUe@e@cAIQGOq@gBKc@Uu@[}ACMoA_Gu@oDESEQKe@Kc@UiAa@kB_@}AYkAq@gDEOEUCMGUKe@[iACM]iAa@iAgAyCGOGQmAsCMWq@uAIKiBwC{@sAe@u@wA}BU_@i@}@AAS]mBaDoA{Be@y@CEU_@g@_AU_@Q[u@{AGKoBaEUe@Sa@y@aBmAcCg@aAQa@g@aAMUEIe@aA{A}CCGmAeCS_@EM_@u@Q_@Sa@e@aAQa@y@cBQa@cCcFoAgD]iAS_AESEQOs@o@gE_AwGS}Aw@yFy@kG_A{GAEg@yD{@iGwAiKQgAs@eFKu@S_BGa@G_@Ig@Me@Me@GWEKSg@_@y@q@kAk@q@WY?A_A{@SOYUAA{@e@AA_@Qu@[mBq@gF{AECaAYa@Ko@SSG{Bu@cBu@EAiCoAMIEE{@i@mA_AiB_Ba@_@o@i@{@}@yAwAcAeAQQQQkHgHaA_AmCkB[UIGUM{FwCqI_FsBmAEC]U_@S{@i@g@YkF}CGE_JiF_FuC_GgD{@i@MGkC{Ai@]uFeD{A}@yBqA{BqAmF{C}@g@sI}EoEoCaAk@_@S]U]S_E_Cs@a@mGqDGE]S]S_@UmF}CeAm@gAm@aCuAwCiBEC_Ae@_@Qi@YyAq@}B}@wD{AmDyAaCcAeFsBcFsBWKGCaDsA}D_BcFsBEAaBq@i@SkAc@qD{Aa@Q_@OCA[McEcBs@Wm@WaCaAa@QSIKE{CmAkBo@MEwBo@EA[KcA[UGuCo@oBa@aCm@{GaB{A_@c@Ia@KoCo@uKiCsHiBsHiBKCw@So@Oa@KuNkD}A_@mAYgBc@qG{AmEeAa@Ko@O{Bk@aE_AsBg@oD{@yJ}BcAW{Bi@}A_@WGs@MkD{@wAg@_@QyBgAu@k@cAu@cG{EaEeDw@o@m@e@_HoFIGQOIGOMAAmIyGQOIGQOIGwEsDwJ}HwCyBcFaEg@a@mPuMuOcMoQqNcGyE}@q@{EwD_Au@yHiGUS[WECaLaJoJqHwC_CmByAkA_AuLoJiCsB{LwJmN_Lw@o@gBwAmDuC_E}CeBsA_@[_CaBm@_@_@S}@c@cDiAcDaAiD_AgN}DwAa@a@KwP{Eei@eOmi@oO{NcEsA_@kV}Gs\\\\oJ{GmBsBm@gA[iEoAqFyAiKsC{LkDe_@mKwF_B}@U}C_AmBi@g@OcAYiXwHqHwBwBk@ie@wMyEuAyUyGoK{CgD_AeEkAa@Kw\\\\kJai@iOei@aOcGiBcXwHgFyAu@SoDcAmD_AuFaByQgFa@KcAYa@McRiFaEkAa@M{RuFkGcBwEsAaJkCyP}EeLaDcEiA_PsEaRkFcK{CcAWwF}A]KaD{@oA]g@KiDeAm@Sa@Kk@QgD_AoA[iASu@Ks@GSCuAEoFEoD?mPCkICq@?oC?G?[?G?iTEwk@KqFAgAAc@?u`@Guk@MuREaXEiDAc@?c@A}GAc@?kBAc@?c@?c@?cICc@?c@?{FAwZGc@?c@?c@?{FAoUEc@?c@A}RCaC?{ECeE?gCAoQEyC?{OEeEAwSA[?k@?c@AkB?kBAc@?gSEc@?}KCyOEc@?oCAyEAcCAi@CoD?yOAkUEuk@IwNCwEAc@?cTCcIAuNAoECiECkB?c@?m@AgEAmHA_RCwC?eBBeABiFPkGR{Ld@U@c@BcL`@ok@zBs[jAcOh@w_@xAaj@pBoi@nBkFRed@dBqk@rBeBJeBHo@DoCJ{CHm@BqBFiU|@}Pl@oAFaRp@aDLok@tBqHVgHXgIZ_ENuCJsDR]BgBFuENqDJwGV{JZuEN{CNaW~@sDNaIZaRr@c@@oCLc@@c@BqPn@wENaFRc@Bc@@uERoL`@aGT}I^cAD_DLuEJ}GVaJ\\\\}Pn@c@@uNh@c@BwGVaCH{DX{BVaALk@Fc@FmAPyIfA_BRkHbAkEh@uFt@sFr@c@DyGz@c@FaJhAqMbBkEj@uEl@eOjBaUvCc@DuFt@iBToDd@gAN_AN_BRqANwDf@}@JcALqBNy@B{@?yAIsAM{@SCA]Ic@IGAkAc@wBw@eDwAwL}Ea@Oq@YyNeGgGiCy@_@eEaBmAg@{@]eAc@cJuDeDuA_@QcHwC_NyFqX}K_DqAcEeBmCuAoAy@wAaAyAkAaL}KuAoAqHkHaA_AcRsQaA_AkAgAyCuCmCiCYY_@Y_QuPcSiRkAiAcJyI_M}LYYIIQQ{BuB_MkLsFuFUS_D}Cw@w@}CyCUSEEkGcGwBsB{@}@oAoA_HyG[Y_D}C[YYYoGcGeCcCiE}D}BwBsAuA_AeA{CqCuCqC{NqNWU}HuHwJsJwDqDgCcCoBiBeG}FqFmFoAmAYYYY[[g@e@}FyFsJeJaB_BgN{Mm@k@aD}CuGkG}B{BYYiBkB][WW[YmGeGs@s@u@s@YWAAu@s@kBiBeCaC[Y][uAqAqFmFYYuEsE[YYYeCcCKMi@g@aD_DmEiEoAoA{CwC_B{AmGcG[[kBgBoFmF[YYY[YY[aA_A}BqBeA_Ae@g@[Y}C_D[[eCgCiDwC{HwHuLkLQQGGm@m@eDaDw@u@AAoIiIwHiHqDoD}EwEmDkDiAaAu@k@{A_A{@a@yB}@sDgA[KgDiA}FmB[Ma@MgEyA}EeBgGuBkIsCkIuCA?_@Oa@MkIuC}CcAoC}@eCy@wAe@cPkFkA[}B{@{@W_@MoHcC_Cy@gC_AaA[a@O_@MeBm@iNyEGCA?_@OA?qAc@cCm@uUoD_@GC?gJwAmDs@w@QwCk@c@IeASw@OuB[MCUCc@Cg@EsBKiAC_BAkCH]@sCLa@BA?oGPcFLC?c@@c@@c@@Y?W@[Au@Ay@Gq@Im@I{A[{Du@gFeAmc@uIwE}@iKsBeHuAa@Ic@IeASiP}CwH_BeE}@}A[oAWeASa@IeASiOuCoE}@wCk@}Bc@cMcCgB]sIcBoE}@_@IgEy@cFcAcIaBqI_ByE_AwH{AeASiHwAcDq@qEy@_Cc@mBa@}Ck@kB[oAIe@Ei@Am@?cADg@BcAJk@JuAVe@Lc@NqFfB{DrAuIpCkGrBa@L_@LkFbBcLrDgEtAuFfBuAb@eEtAiDnAmH|B_Ct@{RpGa@LcA\\\\eCx@mMdEsh@vPsh@|Psh@zPkH`Ca@NqKjDa@La@NuMhEw@V_GpBi[`Ka@NgCx@yUvHoEzAyFjBo@T_Bf@eBj@gM`EyGvBwHdCmGxBQDiK`DA?sHdCsC~@}Ab@o@Nq@NmB`@qATUHKDSBa@FC@]Do@Fy@Ho@DyALQ@q@H_@DUBC?MBeBNqANM@eE^kJbAWBO@C?aFh@{Gn@E@i@Fy@H_AHoAJaALqJdA_NnAgAJiBRqCXgBNi@F_AH{CX}O~AuBTiEd@}I|@sBRWBa_@lDoHx@sCVI?a@DoGn@_Ht@qJz@C?c@DcAJwPbB}@HqJ`AmBRwCXwIv@yCZ}BTmV`Cc@Dc@Dak@vFsLlAc@Dk\\\\dDeZtCgKbAeDZcGn@}Ht@yEd@{Hx@qGp@qNpAK@yJ`A}CZwJ`A}NvAqFl@yBRM@wFh@uGp@}Ed@oNvAsGn@aAHqALsBTyD^qBRyf@zEo\\\\fDiMpAiKdA{^nDsSpBgLhAgIx@wGn@cD^a@F}@Lg@JUFm@Pw@X{@XE@WJe@T_@Rs@^s@f@QLsBzAqDlCmCnBcEzC_CdB_EzCcFrDwCvByB|AkP|LwQ|Mi`@pY[TaAr@c@\\\\_BjAaHjFcBlAcBnAeBnAeBpAeBpAeBnAcBpA[RiAz@KH]Vk@`@{@n@WPmA|@IFiBtAiBtAkBrAiBtA]VkA|@iBtAiBrAoA~@WRoA|@}B`B_BlAcBnAeBnAc@\\\\_Ap@eBpAmA|@WRcBnAeBpAcBnAWRmA|@cBnAcBnAaBnAeBnAcBnAeBnAeBpAeBnAeBpA_BlAQNmAz@qAbAiAz@{B`B{@n@oBxAmBxAsA`AsBvAwB`BuB~A{AhAk@`@gBpA{C|B{AhAyAbAkEdD{DxCWNwQ|Mg@^c@\\\\iBtAe@\\\\gCfBm@f@kAz@gAx@iAz@kAz@iAx@kAz@IH}AhAaGlE{EpDqA`A}D|COJQNcAr@uA~@UN{@p@i@b@g@^c@^k@b@sA`AsA`AwAdAyAfAmA|@OJ}AjA}AhA_BhA}AjA_BjAaBlAYRuCtBmA~@_Ap@g@^wB~A_BhA_At@y@n@wA`ACBYR}BdBwCzB_BdAcClBaChBk@`@cBlAqBzAsA~@aBnAcBlAeBnAcBpAcBnAcAt@a@VcBpAgBpAeBpAg@^{@n@w@j@k@b@cBnAuCvB_BjAyAdAsA`AsA~@A@oA|@sAbAuAbAwAdAwAhA{AhA}AjA_BjA_BlAaBlAaBlAaBlAy@l@k@b@eBtAiBtAeBvAgB|AqAlAQNaBbB_BdB}AfB{AdBwAbB{AbBKNu@v@}@dAk@n@YZsA|A_@b@}@`AqA|AwA`BwA~AwA`BwA~AwA`BaAdAWXuA`BwA~AwA~AuA~AuA~AuA|AuA~AsA|AuA~AuA|AgApAeBlBwA`BwAbBwAbBy@z@}BnC{AfB{AdB{AdBYZgAjA}AfB_G|GmGfHoD`EsAzAsMnOeF|F_ChCkArAYZ_CjC}FvGq@t@gCvCcDrDwKhMuL`NiIlJeDvDoPfReBpBaFzF}Y~\\\\oKzLsOlQuLbNoCdDgH`I}CpDiBpB[\\\\sB`CgC|CiAnAyDfE_H|HmL|M_RbTmPjRyTbW_@`@}BjCkArAqDdEYZwGrH_VlXYb@e^la@gMzNoKzLqHlIeAlA{CjDYX}GhIoBxBkBvBm@r@yCjDgAjAkBrBSTqDjEqDdEoKvLcBrBiC~C{BzCeIzLqIxMo@z@cD|EoCfEiAzA_CpDeC~D}D`Ga@n@KPwCnEgAdBaFrHcA|A{GfKoC`EcBhCmAhBgGjJyA|BiGjJk@x@aFxH]f@IL_CjDyCrEGJ}@zAMP{@nAyClE_@j@kAfBkAhBkAhBq@bAWb@iAbBeA`BcA~Ac@n@i@x@_ArAGLsB|CoBxCa@n@wCjEa@j@{A|ByA|Ba@p@u@jAu@nA{@lAgBjC{ArBiCzDeFdIuG|JsCpEyB`DqDlFaGfJaBdCe@p@yClEaIvLsChE}C~Em@`A}BlDsB|CsB~CU^oDrFW^e@n@mDnF}CxEqApBaBbCY`@]j@gJnN[b@s@~@aAvAgBnC_CtD}A|BaAxAeBvCuAnBoA~Am@x@o@bAKPCDY^c@l@cCjDcN~POPyAfBcBnBkDfEkAxAuAdBiB|B{GlIiAxAwIrKkB~B}AnBC@iAtAs@|@WZKLW^g@l@[^k@p@g@n@YZs@|@qDlEs@`AwAhBeAnAiDfESV}D`FsB~BgBbCw@~@{C|De@h@YZiArA_@d@oExFiBxBuFbHsHbJgArA{@fAY\\\\SXkEpFoDnEqA`BsA`BsA`BqA~As@|@GFgAtAeBvBuBfC}CxDwDvEwE~F}CxDk@t@mJpLy@dAu@~@MLOPaBrBiCbDW\\\\kB~BMNSTeApAs@v@yAfBsA`BeBxBcCxCcEfF}EdGmCdDsBfCuCtDY\\\\{BpCq@x@CD_E`FwCrD'}, 'start_location': {'lat': 23.707014, 'lng': -100.6121209}, 'travel_mode': 'DRIVING'}, {'distance': {'text': '5.7 km', 'value': 5702}, 'duration': {'text': '4 mins', 'value': 210}, 'end_location': {'lat': 25.1359577, 'lng': -100.6823062}, 'html_instructions': 'Continue straight to stay on <b>Matehuala - Monterrey</b>/<wbr/><b>Matehuala - Saltillo</b>/<wbr/><b>México 57</b>', 'maneuver': 'straight', 'polyline': {'points': 'ejexCftgeRgApAcStVwDzEwCnD}EbGqA`BgDdEEF{EbGc@h@{@dAu@|@cD~DeBzB}KbNW\\\\WZ{BpCeGrH}CzDyBpCuBjC_@d@sDvEKJi@r@wCnD{GlIaCvCaFdGwDvEW\\\\WZ}EbGkB~BuEvFWZWZsAbBuFdHuAfBWZY\\\\mCfDgDdEGHYZWZ[^aBdBm@j@i@d@YVq@l@_Ar@[TA@cBjAq@`@]RSLID_@T}@f@gBdAoAt@YNiBdAu@d@'}, 'start_location': {'lat': 25.1000298, 'lng': -100.6421186}, 'travel_mode': 'DRIVING'}, {'distance': {'text': '5.5 km', 'value': 5542}, 'duration': {'text': '4 mins', 'value': 214}, 'end_location': {'lat': 25.1692272, 'lng': -100.7223912}, 'html_instructions': 'Continue straight to stay on <b>Matehuala - Monterrey</b>/<wbr/><b>Matehuala - Saltillo</b>/<wbr/><b>México 57</b>', 'maneuver': 'straight', 'polyline': {'points': 'wjlxClooeRs@^iBbAgBdA_CpAgIvEuBlAyDxB]RqC|AWPOHqJtF{A~@[PcAr@k@`@WRSPmAdAkAnAo@t@ED{@hAGF?@U\\\\W\\\\EFgBrCSXCBU^e@r@qApB_BdCGJQViBpC_BdC_AxAW`@eA`BcCvDu@jAsDxFmDtFoBxCcA|Ak@|@yAzBU^a@j@KPiGtJU^U\\\\W^g@x@aCvDcD`FU\\\\m@|@CFmDpFYb@oFrIaAzAmCdEuDvF{CzEoBxCW`@i@x@QVm@`AADQXCDaA~AsBnDuAnCeDpGgGfMmA~B'}, 'start_location': {'lat': 25.1359577, 'lng': -100.6823062}, 'travel_mode': 'DRIVING'}, {'distance': {'text': '34.0 km', 'value': 34050}, 'duration': {'text': '27 mins', 'value': 1636}, 'end_location': {'lat': 25.4304266, 'lng': -100.8048395}, 'html_instructions': 'Continue straight onto <b>Matehuala - Monterrey</b>/<wbr/><b>Matehuala - Saltillo</b>/<wbr/><b>México 57D</b> (signs for <b>Saltillo</b>/<wbr/><b>Mexico 57D</b>/<wbr/><b>Monterrey</b>)<div style=\"font-size:0.9em\">Toll road</div>', 'maneuver': 'straight', 'polyline': {'points': 'uzrxC|iweRcNlXk@hAs@rAKNmCxBm@\\\\i@Vk@Ra@Jk@Lc@J_@Dk@De@@aCBaB@I?M?U?c@?eA?cC@}GDs@@}EFaADkALgAN{@PYFmAV}@Vg@Ru@XsB|@oEdCsBfA_@Ps@`@u@\\\\SLsAr@gB~@SLc@Vo@\\\\_B|@_Af@cB|@eB~@qJfFgB`AaCpAk@ZMFQJ]RsAr@sBhAoDjByC|A[NYNaCjAaFxBEByF|BgFrB}B|@kAf@cFvBgFrBa@NeCdAaBp@]LcAd@_@Pk@Tm@XGB_@T[RQLKFYTA@w@n@u@r@q@z@MNIJ?@i@z@ABu@tAYp@O^m@~Ai@vBMb@CLi@hCc@nBwA~G}A`H[xAe@tAKVUb@CFOX?@CBq@lAIJMRIHi@p@INu@hAe@n@ORq@n@k@`@]Ve@ZoErCcBjAm@\\\\g@`@g@b@aEzC[VIFSNcAx@CBs@p@MLONu@v@i@l@[^KJw@|@_BlBc@h@CDYZW\\\\cCzDU^W\\\\eCxDU^U\\\\sC`FU^U^aA|AsCrEc@t@a@v@gB~Cm@hAS^S`@w@tAi@`Ak@lA}@jBoAdCOXe@`ACHMTA@cEjIu@|AsBbEWj@A@EJA@sC~FyAdCkAvBiAdBe@r@aJ`M_D`EUZORW\\\\UXaApAiDjEIJs@`A_AlAABW\\\\KJKPGFCD}@jA_AlAmA`BORQR_AjAUZ{C~Ds@|@c@j@gAtAgBnBWZYZs@v@[\\\\q@r@u@v@}BhBQN}BfBSNkEfDq@f@ED_D~BiBvAgBpAgBpAMJEBOJMJyC~BKHeBpA_@XiCnBwB~A[VaAt@OHCBOHIFC@ULWJs@T]LGBYFA?k@L{@HeAFQ?i@?s@A_@AaAM]EcBWeAOi@Ic@GQCwEw@]GUE]GoF{@gDe@{AWWEu@MCA_@Gg@E_Cc@yGcAaCc@}F{@s@MaS_D}@O{KeBwEu@s@MwTmDUEkMuBwDo@SEoLiB{@M}Ew@kAUgEu@cBUGAuHoA_Fw@oGeA_BWsB]a@Ga@GsCc@q@Ek@?a@@WBm@Fm@LGBODMDC@OFk@VcAl@oCrBKHOJ_At@}AlAgBtAoCvBoCtBi@`@SLIFQNiBrAkBvAED_@Xq@f@{DxC_ChBa@ZWRq@h@kCrBcE~C_EzCEFi@`@e@\\\\uB`B_E|Cc@\\\\[Te@^KHaChBED{BbBgBtA_ChBWROLeEbDc@Vk@^]Nc@N_@Hg@Hc@Ba@By@?M?}A?g@?w@?yCEY?aEAcDEc@AY?sEGyBCc@?_CCoGEA?o@AGAg@CiBMi@Gm@KeAQu@Qa@IgJoBw@QyKeCmEaAoCm@ICWGw@QgMkCwD{@{@Qq@QoCm@cCi@c@KcAUKCuEgAE?cAUa@KsAY}D{@qEeAiCm@oEcAsAYiAUyAYmCk@{Cw@o@KWGIA{Cm@qBWUCgAImBGy@CqA?kCCw@AoHI}BAQAqBAW?mCCgDEqBCkCC]AkAAG?_@?_@AA@}AAeFGgA?eACqEGqBCwBAqA?yAD{@FcBVc@H[Hi@P_Bj@q@ZOHWNqAt@EBWPoFdDUNGDgHnE_@REDsD|BMHk@XC@A@UJi@Vc@P{@VgAXKBKBmB^sD\\\\iBPA?a@DA?a@DiAJmE`@eSjB_Fb@u@Dm@A}@Aw@Eg@GQ?m@Ky@OcAYe@Oi@Sc@Q_@QkAs@SOkAeAQMIKCCs@w@S[e@q@{@_Bo@sA_CkFWe@Sc@a@u@S_@kAkCIMKUMUoAiCwAwCo@iAc@o@SWg@i@k@g@]Yg@WAASO]SMGMGCCWOOGc@UOIeAg@y@_@o@Ue@M{@QWE_@Ce@Cs@A_AFkAPc@LKDGBWHGBA?w@\\\\a@Ve@Zi@b@e@j@UXWZmAlB]p@q@tAc@t@]h@?@]l@QZg@~@u@xAu@bAoAbBq@h@i@b@KLQHUHSH_@N[Fa@JYFc@Je@B_@Bk@BeAHi@HoCT_ABm@Bg@Aw@CcAES?{@G]A]A[?_@?S@[B]Di@Hw@Pq@N]DI@_@B_@B_@@yAAY?k@@iA@C?S@a@DOBOFOFMHi@`@[T[X[Zk@f@]\\\\g@d@CDk@h@CBOLWNOLA@ODOFUD[F[DW?WA]Eg@MuAi@o@[KE[MEAe@MYI[Is@MUAi@?s@HWFWJg@VYROLQTYZs@`A{@hASVi@p@i@f@]R]RGBa@LkATuANyAPwD`@YDy@Fg@Fg@F[Do@HWBe@Fc@Fa@Hc@L]Ji@R_@T_@R{@d@q@^_Af@a@Va@T{@`@[L[NQF[HE?QF{A^aATm@Ns@Nk@Nc@N[HYLIBSHC@YL[Pa@Ti@^e@Zk@`@k@^s@^o@ZmA\\\\y@LQBe@@Y@[?q@@g@CuAOg@Io@GaAIe@C_@A_@?g@?i@De@D[@[DmIz@gBLe@@sBBo@?g@Ai@A{@A{@C_AA_AEu@Ag@CkFGu@A}@Aa@?Y?WAkIOgAAkCCu@Ce@?'}, 'start_location': {'lat': 25.1692272, 'lng': -100.7223912}, 'travel_mode': 'DRIVING'}, {'distance': {'text': '20.8 km', 'value': 20828}, 'duration': {'text': '15 mins', 'value': 872}, 'end_location': {'lat': 25.5846363, 'lng': -100.8786428}, 'html_instructions': 'Keep <b>right</b> to continue on <b>Autop. Carbonera-Ojo Caliente</b>/<wbr/><b>Matehuala - Monterrey</b>/<wbr/><b>México 57D</b><div style=\"font-size:0.9em\">Toll road</div>', 'maneuver': 'keep-right', 'polyline': {'points': 'e{ezCfmgfRsIOuCEwAK}GCmBEaAAcAAC?kA?u@BM?c@Bc@BwBZ[H{@PcBl@q@Vy@d@wAbAA@_@b@gB`CGHk@|@GJKNKNU^MPCDKR{CvFi@z@_@p@g@z@aCbEgCpEOVOXU^cBxCcB|CQZsBnDgClEcBxC[j@S^yBzDmBfDS\\\\}ArC{AjCCDS^ILaBvCm@fAS\\\\aBrCoBpDi@|@S^iCpEsBpDKNINyAlCy@xA{@zAU^S^S\\\\uAbCU^uAbC{DrG}AfCGJILsAtBkDxEeDnEuHbKW\\\\U\\\\gExF}DhF{ApB]d@U\\\\]f@uAdB[^u@dAi@p@oAfBqAdBoAbBW\\\\]d@[d@c@j@y@fAUZA@WZw@dAoAfBqAdBoAbBILWXm@x@OPW^oAbBe@n@W\\\\QV{BzCoAdBoAbBoA`BcAvAIJoA`BoAbBoAbBmA`BmAbBmA`BQR}@lAoAdBoAdBqAdBCDgAxAEDoAdBqAfBoAdBaApAMPqAdB[`@u@bAu@`A[b@C@eAxAGHqAdBsAbB_AnAQVCDkA|AoAbBqAbBoAbBi@r@uFtHUZ?@W\\\\yDnFkEfGqDtEwBpCY\\\\Y\\\\wDlFIJ]b@EDm@t@e@d@o@j@oAx@{@^WNe@Le@NsAVq@H}@DK?M?K?q@AIAM?MAK?a@GWEqB[aCc@cAUgScEwBc@qH_BaJgBa@IuJmBYGeHuA_L}Ba@IkL_CeAU}EcAmDs@_@KoAUaHwAuKwB_@GuPgDuVaFeAUoAUQCOEcLwBUCoFg@_FKaB?iBBkABwGf@m@Du[`CkM`AqDXkMfAmLz@yFb@g@Du@FiGd@gDTuCTaDVuPpAwNfAuS|Ac@Dc@BeT`BgF`@{BN}Gb@oBPySfBeOhAiHl@uBZsAViAXA?_@Jg@L}Bv@wAj@wClAyBjAw@f@m@^cBpAk@b@a@^eDvCUR}@t@wBdBeCvBSP[XiRbPGD_BvAy@r@'}, 'start_location': {'lat': 25.4304266, 'lng': -100.8048395}, 'travel_mode': 'DRIVING'}, {'distance': {'text': '0.8 km', 'value': 818}, 'duration': {'text': '1 min', 'value': 39}, 'end_location': {'lat': 25.5917335, 'lng': -100.8791942}, 'html_instructions': 'Take the exit toward <b>Monterrey</b>/<wbr/><b>México 40</b>', 'maneuver': 'ramp-right', 'polyline': {'points': '__d{CnzufRo@ZYPQLA@o@^g@Tq@VUF_@NMBa@JOD_@Hi@Hw@Jk@Dm@B}A@mBGyJq@mAK}@Ku@OgAU'}, 'start_location': {'lat': 25.5846363, 'lng': -100.8786428}, 'travel_mode': 'DRIVING'}, {'distance': {'text': '5.1 km', 'value': 5105}, 'duration': {'text': '4 mins', 'value': 216}, 'end_location': {'lat': 25.6142706, 'lng': -100.8363255}, 'html_instructions': 'Continue onto <b>Carr. Monterrey - Saltillo</b><div style=\"font-size:0.9em\">Toll road</div>', 'polyline': {'points': 'ike{C|}ufR[Ie@Oi@S{@e@MGOIQMyCwBiCqBcBsAeCiBSMOKECICICo@i@qEeDwC_CwAkA_As@g@a@UU_A}@{@iAIMa@q@KO]u@We@Qi@i@cBg@cB_@{AEKSu@Ka@m@wBSs@y@yCK]GWcAiDUy@cAmD_@yAMe@{@{CW}@g@kBe@iBg@eBe@cBe@_Bc@_Be@_BAGUw@Mc@Ke@kAiEiBsGOk@a@yAa@{AYgAwBoHe@aBc@aBe@cBe@eBe@gBg@iBIY]oAg@mBI[a@wAUu@YaAEKe@aBk@uBgDyLoBgHEOCIk@wBm@_CKY]qAe@gBe@eBe@gBACa@_B?A_@wAAE]sAAGa@yAYs@IYGMm@yASa@[k@Uc@s@kAs@oAw@sAa@q@'}, 'start_location': {'lat': 25.5917335, 'lng': -100.8791942}, 'travel_mode': 'DRIVING'}, {'distance': {'text': '1.0 km', 'value': 998}, 'duration': {'text': '1 min', 'value': 44}, 'end_location': {'lat': 25.6160765, 'lng': -100.8267279}, 'html_instructions': 'Take the ramp to <b>Monterrey</b><div style=\"font-size:0.9em\">Toll road</div>', 'maneuver': 'ramp-right', 'polyline': {'points': 'exi{C`rmfR?GACCIGOEIYk@MWWk@EKMYCGGSEOOc@CKWy@Qw@Ou@Km@I_@?EI]?GMw@Kw@KaAMyBk@oHAc@Ck@McE@yB?UBiA?GCyACsAAYIa@'}, 'start_location': {'lat': 25.6142706, 'lng': -100.8363255}, 'travel_mode': 'DRIVING'}, {'distance': {'text': '47.7 km', 'value': 47693}, 'duration': {'text': '31 mins', 'value': 1849}, 'end_location': {'lat': 25.673774, 'lng': -100.3939809}, 'html_instructions': 'Continue onto <b>Autop. Saltillo - Monterrey Cuota</b>/<wbr/><b>Carr. Federal 40D</b><div style=\"font-size:0.9em\">Toll road</div>', 'polyline': {'points': 'ocj{C`vkfR?M?EEu@EgAGgAa@qDQiAG_@Ke@Ie@UmAUiAYyAWiA]yA_BeIEUCOKe@Y{AeA{FCOCOO{@Ke@AGqCyMi@iCOs@Ic@oAgGiBiJyAcIw@oEs@uEg@cDqA_JKw@Ge@QmAGe@Ig@YsBGe@COw@_GEWgAaIk@cEGe@?Aa@qCQkA]aCOcAGi@EYMiAYgBAKo@wEAEk@wCIe@Ke@o@uCu@sCMg@ISw@iC}@_CkAaDEKQa@IWg@qAIU[{@m@}AKUOc@g@mAeAoCIWEKKUISgB}EuDoJsBkFeAkCoAeDeB_FoAuDuAuEsByHCMw@gDEQIe@y@}DIe@Ke@a@sBMq@_AsECOS{@Mo@Ka@oAkGi@iCCIKe@a@uBmCqMOu@e@_CWqA_@iBGY{AuHq@{CWkA{@}DGUOo@iAsE{AcG_AcDeAuDM_@uA{Eu@kC_@oAq@_CqAaEiBsG]wA?AyByHGYKU?Ac@gB]eAk@uBi@kB_AiDg@}BQi@Qo@qAeDyAkE_@qAGUSs@YiAgAkEaBkFSq@W{@sA{EaAsD}@oCm@wBcAuDcAoDkAiEoAqEOg@GSMc@iA}DYaAMe@GUe@}BWwAk@wC_A}EuBqNy@uEUoAUuBMq@Ge@G_@u@mFQsAm@yDgBgL}@wFIg@w@{EcB_IGOYiAOg@K_@o@}B{@}Bu@qBaAcCoAoCa@w@g@aAiBmD]o@OYeA_Bm@w@U[MSi@}@CCsC{EWc@qC_EkCuDiCwDkCuDqAuBuBcEoBmEcAgCOc@_@}@q@yBqAuEoAwE[oAwC_Lm@cCsA}EMc@Sy@Su@o@qC_@_BiCkJGWMe@Mc@Mg@aAmDw@oCOm@i@oBMc@Ma@Om@Mc@CGGWYiAi@qBEQEOK]CEu@gCa@qAsBiGEMMc@Mc@[aACIM_@o@iBOc@AAu@kBM]Qc@Qe@sAyCk@sAoA_DOa@kAcDa@}@[u@k@sAM[_@}@?AQ_@gAiCSe@O_@oBaFYu@Oa@g@qAm@}AoBsEg@kAKWUe@mAuCkBsEEMy@sBUm@gBqEc@eAkBoECIy@gBiAwBIOS_@U_@_AcBQ_@Qa@e@cAQc@gAgCQc@O]Ue@iBcE}@mBsBqEcBgDs@uASa@uEoJS_@u@}AUi@Qa@Sa@CIw@cBw@{ASa@uBgEO[iCqFQa@eAyBWk@s@{AGKSa@KSGM_FeKe@aA[q@Wk@qAkCw@aB]y@Wi@Qa@i@qAg@qACIuAsEk@kB[iAo@eCiCyJi@wBuAuFu@yC}@uDMe@GSCOuDqOeBaHSu@CIEQQu@?CAEIYGWu@wCe@gBw@_DqB_IcA_EgBaHUy@o@kC[aBIc@I_@UiBMkA?GEk@Cc@AMAYAa@?EE}A?S?}@@U?g@?CDkAHgAFw@LgANcAFk@Hk@BWDWHq@BODWNgAb@_DHg@DY@KDY@ONgADc@D]@A?EFg@NmANwAPeB^yDRyBRcC@Mh@kIBQV}FZoDB]?IBQDy@HiANcCZwEDw@LwBPoCJkA\\\\sE?ETmDLqBVaEP}BDs@Bg@N{BR_FHsBDeA@U@g@BiADsB@wABiD?iGAmFAoEAmC?O@s@?YDeABm@@W?EDs@@g@H}DCgCAq@?ECiD?wA?SF{CBm@JwAVgC@GVkBJc@`@qBF[BIr@sCT_APo@T}@VoAV_AvAoF@Gb@aBVeApC{Kt@qCt@uCx@gD`@yAbByGJc@zAcGDS^}Aj@aCF_@ZiBHa@`@mCVoBDWT{BNeBTwCFuA@[@IBg@HqCDu@@g@h@cOf@oNRmFT}FD_AP_EL}BNwBLeBFa@PuAJo@LcABKDYPcAZwANk@l@yCHa@VkAVkAJc@~AmHJe@f@}BzA_HJe@Jc@rAgGdAaFJe@Ns@rBiJJe@Je@n@uCJe@ZwAT}@`@eBBILc@pAeFt@aCDKFST{@La@dBiGH]Ne@fAuDTu@FQLe@Lc@Nc@n@wBf@aBLc@FUFOVw@^qAvBiHLe@J_@HW~@aDNe@Ru@d@yANc@nBqGb@yAxAyELc@Le@z@oCLe@\\\\eA|@yChAwDj@kBZiA\\\\gAl@sBNg@`@wAFQFSL]dB_GLc@n@wBjDiL\\\\iALc@Nc@Le@`DoKFWDKLe@j@kB`AcDn@qBBI`@sArBcHNc@Lc@vA{EFURq@Nc@Ng@ZeAj@oBLa@Nc@x@qC~@}CjDgLLe@Lc@j@mB@?Lc@~@eDPi@f@gBp@_CRy@`AyDTw@r@oDv@{DHg@@CHa@TqARgAF]@GHe@Jm@F]@GFY`AuF?A\\\\cB@Kz@qEhAeGLq@DSDWBMv@oEDSTqAv@gEPeAZuA@EPs@T{@hA_ExAyDFObCeFBEtBeEvBgERa@BEzD{HhBqDp@sA\\\\o@vC{Fj@iAfFeJNWR_@DE|@wAT_@bA_BR]T]T_@NUhBuChB{Cf@{@Vi@Tg@FYFUF_@F[@O@a@@_@?[?C?UEk@E]Mu@IYIYGKg@}@S[SUIKKIQMGEQM]QMG{@WWIe@E_@EwAGa@?q@A_CAc@?yA?{AEi@@s@@e@A_@ESAGAU?MAKAKAU?YCa@EQAQCm@IWEC?]McA[A?]Qe@Sq@]m@_@sCsC{AiBy@eA{@aAc@g@GIAA]g@s@gAYy@M]W_ASkAK{@Co@Cq@AO@c@Am@HaAFu@@AHk@Lk@bAkDHYz@mCTo@j@}AZeANg@T{@FYBOHc@Dk@Dy@@i@@AGgBG}@OeACIm@mBAAm@cBACIWKSc@oASo@Si@[iAMa@[iAKe@Mc@AAMa@Me@Mc@?AKc@Kc@]yAm@_EWmCCUQyA]{C[aDUuBGm@QmBKaAGs@U}BC_@O}BIcBIyACg@C[Cs@ImACu@CYImBKaBMyAKoAA]]mFGoAEaA?SAcA?{A@oA?]@oBDgE@_B?eCGqBGc@Ga@YuA]aA[w@]m@IQm@w@KMc@i@e@q@S[EGQ[]m@k@yAAE_@gAKWGSGUIYAIQe@Ma@CKUo@o@aBGSUi@Q[GKIOACQa@GMISEGK[O_@AAAE[{@AEGYCKMe@Mc@GWEO_@kBGUEM?Ca@aBEKi@}Ag@sACIa@w@Ua@CEM]MYCGEKIWOa@Oc@Oc@Oc@K[CG}AyF]qA[wA]kASw@[mAMk@Mq@y@eEGo@K}@AOEe@?AC{@AoAAi@?e@?E?a@?g@@SE_ACc@A[AG?A@EBK'}, 'start_location': {'lat': 25.6160765, 'lng': -100.8267279}, 'travel_mode': 'DRIVING'}, {'distance': {'text': '1.4 km', 'value': 1450}, 'duration': {'text': '2 mins', 'value': 124}, 'end_location': {'lat': 25.671263, 'lng': -100.380369}, 'html_instructions': 'Merge onto <b>Carr. Monterrey - Saltillo</b>/<wbr/><b>Matehuala - Monterrey</b>/<wbr/><b>Eje Metropolitano 30</b>/<wbr/><b>México 40</b>', 'maneuver': 'merge', 'polyline': {'points': 'alu{CjewcRG_AI_BMoCAO?MCg@AU?QA]Aq@Ai@?o@@o@?Q@Y?MFeAHgAHu@@OJo@Py@^kBNi@XcAVs@l@yAZu@f@cAbDcFP]DKFOJYL]p@{B`@{AH]@M@Q@S?e@ACCoACoAAUGmB]aG'}, 'start_location': {'lat': 25.673774, 'lng': -100.3939809}, 'travel_mode': 'DRIVING'}, {'distance': {'text': '0.1 km', 'value': 105}, 'duration': {'text': '1 min', 'value': 26}, 'end_location': {'lat': 25.6703229, 'lng': -100.3802853}, 'html_instructions': 'Turn <b>right</b> onto <b>Atirantado</b> (signs for <b>Morones Prieto</b>)', 'maneuver': 'turn-right', 'polyline': {'points': 'k|t{ChptcR^I`AExA?'}, 'start_location': {'lat': 25.671263, 'lng': -100.380369}, 'travel_mode': 'DRIVING'}, {'distance': {'text': '0.2 km', 'value': 189}, 'duration': {'text': '1 min', 'value': 37}, 'end_location': {'lat': 25.6695031, 'lng': -100.3788361}, 'html_instructions': 'Continue straight to stay on <b>Atirantado</b>', 'maneuver': 'straight', 'polyline': {'points': 'ovt{CxotcR`@CDA@A@?BEPG@?LI@ABAN[Jo@LcAFe@@MDQDUBEFK'}, 'start_location': {'lat': 25.6703229, 'lng': -100.3802853}, 'travel_mode': 'DRIVING'}, {'distance': {'text': '3.3 km', 'value': 3333}, 'duration': {'text': '3 mins', 'value': 202}, 'end_location': {'lat': 25.6697821, 'lng': -100.3501314}, 'html_instructions': 'Slight <b>left</b> onto <b>Blvd. Antonio L. Rodríguez</b>', 'maneuver': 'turn-slight-left', 'polyline': {'points': 'kqt{CvftcRTaCD_@Ba@Ba@B_@@a@@a@@a@?_@?O?M?M?M?O?MAM?M?o@?a@CgVAmB@cC?U?O?E?wA?EByCB}@H_D@g@?Q@w@?C?ACe@?IGu@Gq@Mo@Kc@M[ACEKEMACg@_A[c@[]a@_@_Ai@qAs@{@g@k@c@}CsByAkA}AkAg@c@UUUYU_@Q]O_@Mc@Ig@Ge@QsAMgACWC_@AY?eA@e@Fc@Da@ZwAjAmFp@qCPm@b@eBLi@Pw@Jg@DYDW?I@MBSDw@Fk@JaALgAFq@BGJ_@DIFKHIJIHIPIPEPCR?ZBT@TBL@B?Z?d@KTILE^UHKHOFQFSHa@`@oB`@oBD[BMbAkFBOBM'}, 'start_location': {'lat': 25.6695031, 'lng': -100.3788361}, 'travel_mode': 'DRIVING'}, {'distance': {'text': '0.1 km', 'value': 124}, 'duration': {'text': '1 min', 'value': 6}, 'end_location': {'lat': 25.6694918, 'lng': -100.3489403}, 'html_instructions': 'Keep <b>left</b>, follow signs for <b>Av I. Morones Prieto</b>/<wbr/><b>Eje Metropolitano 15</b>/<wbr/><b>Av Cuauhtémoc</b>/<wbr/><b>Eje Metropolitano 25</b>/<wbr/><b>Av E. Garza Sada</b>/<wbr/><b>Av Félix U. Gómez</b>', 'maneuver': 'keep-left', 'polyline': {'points': 'cst{ChsncRFo@Hq@ReAReA'}, 'start_location': {'lat': 25.6697821, 'lng': -100.3501314}, 'travel_mode': 'DRIVING'}, {'distance': {'text': '1.8 km', 'value': 1794}, 'duration': {'text': '1 min', 'value': 87}, 'end_location': {'lat': 25.6654975, 'lng': -100.3316277}, 'html_instructions': 'Continue onto <b>Av. Ignacio Morones Prieto</b>/<wbr/><b>Eje Metropolitano 20</b>/<wbr/><b>México 40</b>', 'polyline': {'points': 'iqt{CzkncRl@mDfA_FDUr@yDZaBVmA`@oBlBeKFa@pAsInBsMReB^iDl@cG@QPoAN{BTyC\\\\}Ed@mE'}, 'start_location': {'lat': 25.6694918, 'lng': -100.3489403}, 'travel_mode': 'DRIVING'}, {'distance': {'text': '1.2 km', 'value': 1208}, 'duration': {'text': '1 min', 'value': 60}, 'end_location': {'lat': 25.6635267, 'lng': -100.3197856}, 'html_instructions': 'Slight <b>left</b>', 'maneuver': 'turn-slight-left', 'polyline': {'points': 'kxs{Ct_kcRAs@?I@S@YPuBBOVgDD[^yDFq@\\\\eDB[TeC^sD?GLeAFe@@SPgA\\\\gC@EJmAP_BBUDe@HcA@Kf@mFBU@O@CJoABWHy@Dg@Dg@'}, 'start_location': {'lat': 25.6654975, 'lng': -100.3316277}, 'travel_mode': 'DRIVING'}, {'distance': {'text': '5.0 km', 'value': 5047}, 'duration': {'text': '4 mins', 'value': 247}, 'end_location': {'lat': 25.676677, 'lng': -100.2742088}, 'html_instructions': 'Continue onto <b>Av. Ignacio Morones Prieto</b>', 'polyline': {'points': 'als{CtuhcRNaBTcCPkAVsA@K`@yBBSBODYBSBMFSNmALwBPaCPcCVqE`@oENaBRyAPkALkAJoBBcA@k@CqBIgCMgBIc@g@aD[uACIe@}AKUo@{AGOSm@c@{@cCaEACGIGIOUq@cA{@oAQWcBiCIQe@u@c@aAM]Oc@Sy@Qg@Qo@Qo@w@eCa@u@Wg@g@u@c@o@[m@CIM_@My@EWIi@Kw@Io@Ki@Qq@I]Kc@I_@w@iCs@_C]iAK[Mi@]mACIk@kBm@oBi@iBg@cBk@iB]iA{@wCM_@k@yBm@oBu@aBs@_BQa@y@gBUc@Sc@EWEOKg@K{@Ee@WmBCWCOAIcAwEMo@Ei@KaBO_FC[a@sFc@aDOu@Kg@U}@]mAK[Qe@o@eBe@_AkAkBy@gAi@m@k@k@g@c@kAcA{ByA[O'}, 'start_location': {'lat': 25.6635267, 'lng': -100.3197856}, 'travel_mode': 'DRIVING'}, {'distance': {'text': '0.6 km', 'value': 583}, 'duration': {'text': '1 min', 'value': 30}, 'end_location': {'lat': 25.6808235, 'lng': -100.2709839}, 'html_instructions': 'Keep <b>left</b> to continue on <b>Av. Ignacio Morones Prieto</b>/<wbr/><b>Eje Metropolitano 20</b>/<wbr/><b>México 40</b>', 'maneuver': 'keep-left', 'polyline': {'points': 'g~u{Cxx_cR}@a@_Bs@cGaCyB}@o@]_@W]S[Y_@a@Ye@IQAA?AACGIEK?ACCCIg@sAIUEY'}, 'start_location': {'lat': 25.676677, 'lng': -100.2742088}, 'travel_mode': 'DRIVING'}, {'distance': {'text': '3.0 km', 'value': 3050}, 'duration': {'text': '2 mins', 'value': 147}, 'end_location': {'lat': 25.6891582, 'lng': -100.243503}, 'html_instructions': 'Keep <b>right</b> to continue on <b>Carr. Libre Monterrey - Reynosa</b>/<wbr/><b>Av. Ignacio Morones Prieto</b>/<wbr/><b>Eje Metropolitano 20</b>/<wbr/><b>México 40</b>', 'maneuver': 'keep-right', 'polyline': {'points': 'cxv{Crd_cRGc@C_@?Y?[FaAHyA`@{I\\\\oG@}@?kBCcAIyAM_BOmAMkAMaAOeAIc@Ka@Wu@Wc@MUCAKOWYe@m@c@y@Ue@GM}@mBk@oAq@qBAEcAcDWw@gAsDMq@Ie@Ek@AmBCuEIqFAiAAuACeA?OC{@EiAKaAKu@WeAYcAWm@g@_A]k@ACg@o@o@{@s@}@aAoAm@y@]a@KMKKKKkAmA{C}DgA{AoA}AU]SWGIEIS_@Uk@O_@ESI_@Ko@Kw@Ey@Cg@A['}, 'start_location': {'lat': 25.6808235, 'lng': -100.2709839}, 'travel_mode': 'DRIVING'}, {'distance': {'text': '8.7 km', 'value': 8689}, 'duration': {'text': '6 mins', 'value': 388}, 'end_location': {'lat': 25.6930848, 'lng': -100.1664352}, 'html_instructions': 'Keep <b>left</b> to continue on <b>Carr. Libre Monterrey - Reynosa</b>/<wbr/><b>México 40</b>, follow signs for <b>Oriente</b>/<wbr/><b>Autopista Cuota a Cadereyta</b>/<wbr/><b>40</b>', 'maneuver': 'keep-left', 'polyline': {'points': 'glx{CzxybREy@?q@Dk@Dw@JaARkA^}ANg@@CDWBIDQB[AYCQI][s@GKYe@Yg@e@y@o@iAi@cA_@k@GKMSeFaJOQGQ]eA_AmCUu@Oo@Ka@My@AMOkAKkAKsAUmCM}AUqBO{@WoACOq@oDEUy@mECKUwACMWyAMo@]iB[gBG_@Gu@Eo@?k@?EBa@@O@IL}@Ns@d@iAVa@T]XWTU`H}EzBwA~@q@f@]FITUj@q@FMNYVo@L_@Li@Ho@F}@Au@Gw@M}@AAMm@Um@AAQa@ACSYGKs@{@}@eAcB}BiA_B_@o@s@uAACQ_@GQkA_DsBoFcAmCQi@Qa@AEOg@Gc@Kq@Ce@Co@?k@De@BWLcAT_AL_@HWL[R[xBwCrCqDpCkD~@aANOtAqAf@g@XYbA_At@y@\\\\m@Ri@Ja@Ly@Bi@?m@Ea@Ge@I]AIOc@Q_@U_@OQ]]{@u@kAaAa@[WQEC[YMKc@c@Wa@Wa@MWMYM[Qs@QaAI}@AaABeB@S@g@@o@P_E@UXeI@SHmCBq@BqA?w@?i@EqAEe@Gs@KcA?AMoAIq@I{@Gu@Ec@Es@Cg@Cq@C_AAy@?{@?{@@sADuBB{ADoB@uA?k@?e@Eg@E_@Ia@G]Qq@M[KWO]MS{AyBe@o@w@gAiA}AiCoDa@w@]w@Wu@GSGUS{@Ky@Iy@A_@?ECu@BoANkB`@wDFq@Hy@\\\\kDFe@Dg@x@cInAeM`@eE\\\\eDFs@D_@T{B|@_JNwARuBDW'}, 'start_location': {'lat': 25.6891582, 'lng': -100.243503}, 'travel_mode': 'DRIVING'}, {'distance': {'text': '0.8 km', 'value': 846}, 'duration': {'text': '1 min', 'value': 65}, 'end_location': {'lat': 25.6916855, 'lng': -100.1581347}, 'html_instructions': 'Continue straight onto <b>Carr. Libre Monterrey - Reynosa</b>/<wbr/><b>Eje Metropolitano 22</b>/<wbr/><b>México 40</b><div style=\"font-size:0.9em\">Toll road</div>', 'maneuver': 'straight', 'polyline': {'points': 'wdy{CfwjbR\\\\eDVcC@C@K?INsALqAHkAd@{ER_CFw@ToBLsATcCRmBFiAZsD'}, 'start_location': {'lat': 25.6930848, 'lng': -100.1664352}, 'travel_mode': 'DRIVING'}, {'distance': {'text': '2.0 km', 'value': 1983}, 'duration': {'text': '2 mins', 'value': 141}, 'end_location': {'lat': 25.6946533, 'lng': -100.1429119}, 'html_instructions': 'Take the exit toward <b>Aeropuerto</b><div style=\"font-size:0.9em\">Toll road</div>', 'maneuver': 'ramp-right', 'polyline': {'points': 'a|x{ChcibRFKFQDQF]?CFq@FYR{BbCiV`BsPZyCPyAPuBFg@B_@Fg@Fe@Dg@Fg@Hs@L_A@KBKDa@@EFe@Dc@B[@Q?S?M?UCSEa@?CIe@Me@M[CEKSU[WUOOSOWOWKUIUEe@IAAc@EOCc@GaC[KAa@GmC_@YEGAc@Gy@MkAQkBYw@O'}, 'start_location': {'lat': 25.6916855, 'lng': -100.1581347}, 'travel_mode': 'DRIVING'}, {'distance': {'text': '8.0 km', 'value': 8042}, 'duration': {'text': '6 mins', 'value': 350}, 'end_location': {'lat': 25.7646907, 'lng': -100.1256499}, 'html_instructions': 'Continue onto <b>Eje Metropolitano 41</b>/<wbr/><b>NL 40D</b>', 'polyline': {'points': 'qny{CddfbRm@IWEsAS[EyDk@k@IiG}@gEm@IAuFy@uB[{Dk@EAC?wAUq@Is@KsCa@oJuAQEA?c@GaC]a@Ii@KSEwA[OCQG_@IoHkB_Co@aD{@c@KaBa@aBc@sEiAc@MiBe@_Ck@q@Q}@U}JgC{A_@YI{Bk@UGgEeA{Bm@kEgA}Bm@mTuFe@MiCo@gEcAeAYcFqAgOyDeFsAaDy@AAy@SA?u@Sa@KsHmBkBg@cDw@sA_@_Cm@{A[kAWaAOc@EA?_@Gi@Ea@Ew@Gu@E]Am@?i@AuA?cA?yA?iB@uA?aE@_D?eD@gIAqE?qC?wABs@?aA@_B@yA?U?g@?sA?_A?qJDa@?}A?iC?U?uA?kBEiAKeAMw@KE?qAS_@Gu@Ou@OWGa@Ky@Ww@S?AgAY}@WsA_@{Ac@EAcAY[IkBg@iFwAkEiA_@Ko@QkA[aAY'}, 'start_location': {'lat': 25.6946533, 'lng': -100.1429119}, 'travel_mode': 'DRIVING'}, {'distance': {'text': '0.2 km', 'value': 227}, 'duration': {'text': '1 min', 'value': 46}, 'end_location': {'lat': 25.7646019, 'lng': -100.123505}, 'html_instructions': 'Turn <b>right</b> onto <b>Alianza Sur</b><div style=\"font-size:0.9em\">Partial restricted usage road</div>', 'maneuver': 'turn-right', 'polyline': {'points': 'idg|ChxbbRM[a@gAAu@AO@O@SBOZ{A`@sB'}, 'start_location': {'lat': 25.7646907, 'lng': -100.1256499}, 'travel_mode': 'DRIVING'}, {'distance': {'text': '37 m', 'value': 37}, 'duration': {'text': '1 min', 'value': 6}, 'end_location': {'lat': 25.7642828, 'lng': -100.1235951}, 'html_instructions': 'Turn <b>right</b> to stay on <b>Alianza Sur</b><div style=\"font-size:0.9em\">Restricted usage road</div>', 'maneuver': 'turn-right', 'polyline': {'points': 'wcg|CzjbbR~@R'}, 'start_location': {'lat': 25.7646019, 'lng': -100.123505}, 'travel_mode': 'DRIVING'}, {'distance': {'text': '0.6 km', 'value': 556}, 'duration': {'text': '1 min', 'value': 67}, 'end_location': {'lat': 25.7626587, 'lng': -100.118339}, 'html_instructions': 'Turn <b>left</b> to stay on <b>Alianza Sur</b><div style=\"font-size:0.9em\">Restricted usage road</div>', 'maneuver': 'turn-left', 'polyline': {'points': 'wag|CnkbbRv@yDdAaFz@}DLk@lA}Fl@wC'}, 'start_location': {'lat': 25.7642828, 'lng': -100.1235951}, 'travel_mode': 'DRIVING'}, {'distance': {'text': '0.4 km', 'value': 436}, 'duration': {'text': '1 min', 'value': 57}, 'end_location': {'lat': 25.7624577, 'lng': -100.1151754}, 'html_instructions': 'Continue onto <b>Vía de la Innovación</b><div style=\"font-size:0.9em\">Restricted usage road</div>', 'polyline': {'points': 'swf|CrjabRz@kAT[rA{Ar@aA^gAFY@]A]AQKg@Sc@S[]_@YSw@]s@G'}, 'start_location': {'lat': 25.7626587, 'lng': -100.118339}, 'travel_mode': 'DRIVING'}, {'distance': {'text': '0.2 km', 'value': 155}, 'duration': {'text': '1 min', 'value': 30}, 'end_location': {'lat': 25.7625444, 'lng': -100.1136279}, 'html_instructions': 'Turn <b>right</b> onto <b>Alianza Centro</b><div style=\"font-size:0.9em\">Restricted usage road</div><div style=\"font-size:0.9em\">Destination will be on the left</div>', 'maneuver': 'turn-right', 'polyline': {'points': 'kvf|Czv`bR?KOiH'}, 'start_location': {'lat': 25.7624577, 'lng': -100.1151754}, 'travel_mode': 'DRIVING'}], 'traffic_speed_entry': [], 'via_waypoint': []}], 'overview_polyline': {'points': 'whdzB|uibRcL~MoQcBoR}rAuw@kAa`Fpt@iuGoEitDu]ekAor@wbBktBeoBqvCwz@tHwxA}_Cai@sBkv@tqAib@jTodAwE_z@pE}ZgYm^cpA_qAmn@ewAb_BgpCrnCy`Dx|DgkCtwEk`BpqCgkBnaDetDpuBwzFluDavAxy@q~FzdEcrGd`JamItqGgrElrD_b@hVwrCejAiqG}hCgfBmu@}~EprAwxMxsDk{B~gBmpEluFaqCvjDy~AnbAcnFjeCccDji@wnLvtAuoI~aAy_AfO}fAfpAguCxiDe_EvyEi~ArmA_xLhrDk|LdhDwfCxbAiz@w@s|Dfa@w_DcBupAylDwkBy_AiqByh@kiDqrC}r@{[alCfXg~DkAodAhaAcw@tgAar@~c@q|@}Wwd@~BmY|m@my@nq@iiBfEqmEfpDutAjpAowAzoBy_Azz@eqEff@iiDdq@irCznAaqGvsC_yAjM_kFmkBufFyi@kyDvK{uEbIs`KgTixL{eCgpC}j@ojF_}AmxAuc@ut@{zAsf@otCqb@klAyvA}kA_~Aa`@cdD}pBmxE{iCcsA_PavGonBcdBeqCueC_fGs`C}|FeeBqoBmcCioA_yDo[iqDyr@}fTcfAw|Jsf@{rDkd@{yAu~Aan@`Bg|TpfE{}p@z`M}k_@ddHaoLxzAciHxr@w_AeRyeDcdDkpDjIkqIfp@__Ru`H_hBoz@u^i~@oiAckCe\\\\kwAgsAiy@qvEgcC{bF}aBkuEksDehI_hCibKotC{jEez@maRgD_iVps@uiJvp@gqEcgCkcD}~CayFcsFu`CenBekCa}@etHciAa|AuYkq@lP}{I~tCgtFl_A{vS|rBu_FrlDudJp|G}|SzzUk_L|jPenLpuN{pCrqCs~ApoC{dAxNuxC~aBwpA`pBsoBt{Csy@rn@uy@uGwxD{l@_x@dj@ueAbp@euB{UivDmWmv@x[qt@dAsS_Zg`@w_@yc@pa@ccA|Po`Ete@wbAzNs|@t}AmaCzlDo}B~pCovC_k@azBwLeiC|RukBtR{t@fk@av@bDqr@su@se@mdB}r@u|Bsk@cbEcdDgfMog@ehC{cA_{Bi`AasC}`BqpDch@clDrQk`Enn@{aFjnCg|J~nAsgDs}@oe@iJqgBiXgaCm^urAhTa_BvCmvAqXer@vLq[bm@g}DhKefAuTqbAqo@}iCwk@oj@uGg`Awi@e}BcVcv@pFa`AoFeh@dQoaAgOimBuQww@lS{tBfNisAc^}NuoFmkAwgDuSs^aP`Uiq@aF_R'}, 'summary': 'Matehuala - Monterrey/Matehuala - Saltillo/México 57', 'warnings': [], 'waypoint_order': []}]\n"
          ]
        }
      ]
    },
    {
      "cell_type": "code",
      "source": [],
      "metadata": {
        "id": "oT5uKTxxP6Av"
      },
      "execution_count": 5,
      "outputs": []
    },
    {
      "cell_type": "markdown",
      "source": [
        "Can I get distance matrix? Pls"
      ],
      "metadata": {
        "id": "oCVZsB3XP74j"
      }
    },
    {
      "cell_type": "code",
      "source": [
        "import pandas as pd\n",
        "dir = \"\"\n",
        "places_data = pd.read_csv(dir+\"places.csv\", index_col=\"id\")"
      ],
      "metadata": {
        "id": "Nubml7DmP6Ll"
      },
      "execution_count": 6,
      "outputs": []
    },
    {
      "cell_type": "code",
      "source": [
        "places_data"
      ],
      "metadata": {
        "id": "x5n89uI1P6UP"
      },
      "execution_count": null,
      "outputs": []
    },
    {
      "cell_type": "code",
      "source": [
        "places = places_data[\"place\"].tolist()\n",
        "lats = places_data[\"lat\"].tolist()\n",
        "lngs = places_data[\"lng\"].tolist()\n"
      ],
      "metadata": {
        "id": "w4dvqSwkP6XT"
      },
      "execution_count": 8,
      "outputs": []
    },
    {
      "cell_type": "code",
      "source": [
        "from itertools import product\n",
        "places_data = places_data.astype({\"place\": str, \"lat\": str, \"lng\": str})\n",
        "latlng = places_data[\"lat\"].str.cat(places_data[\"lng\"], sep = \" \").tolist()\n",
        "combinations_latlng = list(product(latlng, repeat=2))\n",
        "origins = list(map(lambda x: x[0], combinations_latlng))\n",
        "destinations = list(map(lambda x: x[1], combinations_latlng))\n",
        "distance_matrix = gmaps_client.distance_matrix(origins[:10], destinations[:10], mode=mode)\n",
        "print(distance_matrix)"
      ],
      "metadata": {
        "colab": {
          "base_uri": "https://localhost:8080/"
        },
        "id": "UtLnFNXHvmjt",
        "outputId": "374e406d-0195-48b9-8d2e-0f4787cf9f82"
      },
      "execution_count": 9,
      "outputs": [
        {
          "output_type": "stream",
          "name": "stdout",
          "text": [
            "{'destination_addresses': ['Piedad 110, Balcones de Huinala, 66640 Cd Apodaca, N.L., Mexico', 'Cerro de Mercado 3707, Fierro, 64590 Monterrey, N.L., Mexico', 'Calle Cañon Huasteco 1321, La Conquista, 66369 Santa Catarina, N.L., Mexico', 'Av. Parque Industrial Monterrey 502, Monterrey, 66603 Cd Apodaca, N.L., Mexico', 'S. Bernardo 1305, Residencial San Cristobal 1er Sector, 66478 San Nicolás de los Garza, N.L., Mexico', 'C. Angel Martínez Villarreal 7802, Valle de Santa Lucía, 64140 Monterrey, N.L., Mexico', 'C. de la Huerta 33, San Bernabé IV Sector, 64104 Monterrey, N.L., Mexico', 'Autopista Monterrey-Cadereyta. 1341, 67116 Guadalupe, N.L., Mexico', 'Liverpool 5275, Misión Cumbres, 64348 Monterrey, N.L., Mexico', 'Sin referencia No. 385 SN-I HYLSA, Sin Nombre de Col 7, 66445 San Nicolás de los Garza, N.L., Mexico'], 'origin_addresses': ['Piedad 110, Balcones de Huinala, 66640 Cd Apodaca, N.L., Mexico', 'Piedad 110, Balcones de Huinala, 66640 Cd Apodaca, N.L., Mexico', 'Piedad 110, Balcones de Huinala, 66640 Cd Apodaca, N.L., Mexico', 'Piedad 110, Balcones de Huinala, 66640 Cd Apodaca, N.L., Mexico', 'Piedad 110, Balcones de Huinala, 66640 Cd Apodaca, N.L., Mexico', 'Piedad 110, Balcones de Huinala, 66640 Cd Apodaca, N.L., Mexico', 'Piedad 110, Balcones de Huinala, 66640 Cd Apodaca, N.L., Mexico', 'Piedad 110, Balcones de Huinala, 66640 Cd Apodaca, N.L., Mexico', 'Piedad 110, Balcones de Huinala, 66640 Cd Apodaca, N.L., Mexico', 'Piedad 110, Balcones de Huinala, 66640 Cd Apodaca, N.L., Mexico'], 'rows': [{'elements': [{'distance': {'text': '1 m', 'value': 0}, 'duration': {'text': '1 min', 'value': 0}, 'status': 'OK'}, {'distance': {'text': '17.1 km', 'value': 17115}, 'duration': {'text': '26 mins', 'value': 1548}, 'status': 'OK'}, {'distance': {'text': '38.7 km', 'value': 38652}, 'duration': {'text': '49 mins', 'value': 2937}, 'status': 'OK'}, {'distance': {'text': '6.1 km', 'value': 6058}, 'duration': {'text': '14 mins', 'value': 854}, 'status': 'OK'}, {'distance': {'text': '9.9 km', 'value': 9867}, 'duration': {'text': '16 mins', 'value': 961}, 'status': 'OK'}, {'distance': {'text': '27.5 km', 'value': 27469}, 'duration': {'text': '46 mins', 'value': 2736}, 'status': 'OK'}, {'distance': {'text': '29.5 km', 'value': 29475}, 'duration': {'text': '51 mins', 'value': 3036}, 'status': 'OK'}, {'distance': {'text': '6.6 km', 'value': 6611}, 'duration': {'text': '15 mins', 'value': 902}, 'status': 'OK'}, {'distance': {'text': '35.0 km', 'value': 35044}, 'duration': {'text': '44 mins', 'value': 2655}, 'status': 'OK'}, {'distance': {'text': '11.9 km', 'value': 11877}, 'duration': {'text': '21 mins', 'value': 1288}, 'status': 'OK'}]}, {'elements': [{'distance': {'text': '1 m', 'value': 0}, 'duration': {'text': '1 min', 'value': 0}, 'status': 'OK'}, {'distance': {'text': '17.1 km', 'value': 17115}, 'duration': {'text': '26 mins', 'value': 1548}, 'status': 'OK'}, {'distance': {'text': '38.7 km', 'value': 38652}, 'duration': {'text': '49 mins', 'value': 2937}, 'status': 'OK'}, {'distance': {'text': '6.1 km', 'value': 6058}, 'duration': {'text': '14 mins', 'value': 854}, 'status': 'OK'}, {'distance': {'text': '9.9 km', 'value': 9867}, 'duration': {'text': '16 mins', 'value': 961}, 'status': 'OK'}, {'distance': {'text': '27.5 km', 'value': 27469}, 'duration': {'text': '46 mins', 'value': 2736}, 'status': 'OK'}, {'distance': {'text': '29.5 km', 'value': 29475}, 'duration': {'text': '51 mins', 'value': 3036}, 'status': 'OK'}, {'distance': {'text': '6.6 km', 'value': 6611}, 'duration': {'text': '15 mins', 'value': 902}, 'status': 'OK'}, {'distance': {'text': '35.0 km', 'value': 35044}, 'duration': {'text': '44 mins', 'value': 2655}, 'status': 'OK'}, {'distance': {'text': '11.9 km', 'value': 11877}, 'duration': {'text': '21 mins', 'value': 1288}, 'status': 'OK'}]}, {'elements': [{'distance': {'text': '1 m', 'value': 0}, 'duration': {'text': '1 min', 'value': 0}, 'status': 'OK'}, {'distance': {'text': '17.1 km', 'value': 17115}, 'duration': {'text': '26 mins', 'value': 1548}, 'status': 'OK'}, {'distance': {'text': '38.7 km', 'value': 38652}, 'duration': {'text': '49 mins', 'value': 2937}, 'status': 'OK'}, {'distance': {'text': '6.1 km', 'value': 6058}, 'duration': {'text': '14 mins', 'value': 854}, 'status': 'OK'}, {'distance': {'text': '9.9 km', 'value': 9867}, 'duration': {'text': '16 mins', 'value': 961}, 'status': 'OK'}, {'distance': {'text': '27.5 km', 'value': 27469}, 'duration': {'text': '46 mins', 'value': 2736}, 'status': 'OK'}, {'distance': {'text': '29.5 km', 'value': 29475}, 'duration': {'text': '51 mins', 'value': 3036}, 'status': 'OK'}, {'distance': {'text': '6.6 km', 'value': 6611}, 'duration': {'text': '15 mins', 'value': 902}, 'status': 'OK'}, {'distance': {'text': '35.0 km', 'value': 35044}, 'duration': {'text': '44 mins', 'value': 2655}, 'status': 'OK'}, {'distance': {'text': '11.9 km', 'value': 11877}, 'duration': {'text': '21 mins', 'value': 1288}, 'status': 'OK'}]}, {'elements': [{'distance': {'text': '1 m', 'value': 0}, 'duration': {'text': '1 min', 'value': 0}, 'status': 'OK'}, {'distance': {'text': '17.1 km', 'value': 17115}, 'duration': {'text': '26 mins', 'value': 1548}, 'status': 'OK'}, {'distance': {'text': '38.7 km', 'value': 38652}, 'duration': {'text': '49 mins', 'value': 2937}, 'status': 'OK'}, {'distance': {'text': '6.1 km', 'value': 6058}, 'duration': {'text': '14 mins', 'value': 854}, 'status': 'OK'}, {'distance': {'text': '9.9 km', 'value': 9867}, 'duration': {'text': '16 mins', 'value': 961}, 'status': 'OK'}, {'distance': {'text': '27.5 km', 'value': 27469}, 'duration': {'text': '46 mins', 'value': 2736}, 'status': 'OK'}, {'distance': {'text': '29.5 km', 'value': 29475}, 'duration': {'text': '51 mins', 'value': 3036}, 'status': 'OK'}, {'distance': {'text': '6.6 km', 'value': 6611}, 'duration': {'text': '15 mins', 'value': 902}, 'status': 'OK'}, {'distance': {'text': '35.0 km', 'value': 35044}, 'duration': {'text': '44 mins', 'value': 2655}, 'status': 'OK'}, {'distance': {'text': '11.9 km', 'value': 11877}, 'duration': {'text': '21 mins', 'value': 1288}, 'status': 'OK'}]}, {'elements': [{'distance': {'text': '1 m', 'value': 0}, 'duration': {'text': '1 min', 'value': 0}, 'status': 'OK'}, {'distance': {'text': '17.1 km', 'value': 17115}, 'duration': {'text': '26 mins', 'value': 1548}, 'status': 'OK'}, {'distance': {'text': '38.7 km', 'value': 38652}, 'duration': {'text': '49 mins', 'value': 2937}, 'status': 'OK'}, {'distance': {'text': '6.1 km', 'value': 6058}, 'duration': {'text': '14 mins', 'value': 854}, 'status': 'OK'}, {'distance': {'text': '9.9 km', 'value': 9867}, 'duration': {'text': '16 mins', 'value': 961}, 'status': 'OK'}, {'distance': {'text': '27.5 km', 'value': 27469}, 'duration': {'text': '46 mins', 'value': 2736}, 'status': 'OK'}, {'distance': {'text': '29.5 km', 'value': 29475}, 'duration': {'text': '51 mins', 'value': 3036}, 'status': 'OK'}, {'distance': {'text': '6.6 km', 'value': 6611}, 'duration': {'text': '15 mins', 'value': 902}, 'status': 'OK'}, {'distance': {'text': '35.0 km', 'value': 35044}, 'duration': {'text': '44 mins', 'value': 2655}, 'status': 'OK'}, {'distance': {'text': '11.9 km', 'value': 11877}, 'duration': {'text': '21 mins', 'value': 1288}, 'status': 'OK'}]}, {'elements': [{'distance': {'text': '1 m', 'value': 0}, 'duration': {'text': '1 min', 'value': 0}, 'status': 'OK'}, {'distance': {'text': '17.1 km', 'value': 17115}, 'duration': {'text': '26 mins', 'value': 1548}, 'status': 'OK'}, {'distance': {'text': '38.7 km', 'value': 38652}, 'duration': {'text': '49 mins', 'value': 2937}, 'status': 'OK'}, {'distance': {'text': '6.1 km', 'value': 6058}, 'duration': {'text': '14 mins', 'value': 854}, 'status': 'OK'}, {'distance': {'text': '9.9 km', 'value': 9867}, 'duration': {'text': '16 mins', 'value': 961}, 'status': 'OK'}, {'distance': {'text': '27.5 km', 'value': 27469}, 'duration': {'text': '46 mins', 'value': 2736}, 'status': 'OK'}, {'distance': {'text': '29.5 km', 'value': 29475}, 'duration': {'text': '51 mins', 'value': 3036}, 'status': 'OK'}, {'distance': {'text': '6.6 km', 'value': 6611}, 'duration': {'text': '15 mins', 'value': 902}, 'status': 'OK'}, {'distance': {'text': '35.0 km', 'value': 35044}, 'duration': {'text': '44 mins', 'value': 2655}, 'status': 'OK'}, {'distance': {'text': '11.9 km', 'value': 11877}, 'duration': {'text': '21 mins', 'value': 1288}, 'status': 'OK'}]}, {'elements': [{'distance': {'text': '1 m', 'value': 0}, 'duration': {'text': '1 min', 'value': 0}, 'status': 'OK'}, {'distance': {'text': '17.1 km', 'value': 17115}, 'duration': {'text': '26 mins', 'value': 1548}, 'status': 'OK'}, {'distance': {'text': '38.7 km', 'value': 38652}, 'duration': {'text': '49 mins', 'value': 2937}, 'status': 'OK'}, {'distance': {'text': '6.1 km', 'value': 6058}, 'duration': {'text': '14 mins', 'value': 854}, 'status': 'OK'}, {'distance': {'text': '9.9 km', 'value': 9867}, 'duration': {'text': '16 mins', 'value': 961}, 'status': 'OK'}, {'distance': {'text': '27.5 km', 'value': 27469}, 'duration': {'text': '46 mins', 'value': 2736}, 'status': 'OK'}, {'distance': {'text': '29.5 km', 'value': 29475}, 'duration': {'text': '51 mins', 'value': 3036}, 'status': 'OK'}, {'distance': {'text': '6.6 km', 'value': 6611}, 'duration': {'text': '15 mins', 'value': 902}, 'status': 'OK'}, {'distance': {'text': '35.0 km', 'value': 35044}, 'duration': {'text': '44 mins', 'value': 2655}, 'status': 'OK'}, {'distance': {'text': '11.9 km', 'value': 11877}, 'duration': {'text': '21 mins', 'value': 1288}, 'status': 'OK'}]}, {'elements': [{'distance': {'text': '1 m', 'value': 0}, 'duration': {'text': '1 min', 'value': 0}, 'status': 'OK'}, {'distance': {'text': '17.1 km', 'value': 17115}, 'duration': {'text': '26 mins', 'value': 1548}, 'status': 'OK'}, {'distance': {'text': '38.7 km', 'value': 38652}, 'duration': {'text': '49 mins', 'value': 2937}, 'status': 'OK'}, {'distance': {'text': '6.1 km', 'value': 6058}, 'duration': {'text': '14 mins', 'value': 854}, 'status': 'OK'}, {'distance': {'text': '9.9 km', 'value': 9867}, 'duration': {'text': '16 mins', 'value': 961}, 'status': 'OK'}, {'distance': {'text': '27.5 km', 'value': 27469}, 'duration': {'text': '46 mins', 'value': 2736}, 'status': 'OK'}, {'distance': {'text': '29.5 km', 'value': 29475}, 'duration': {'text': '51 mins', 'value': 3036}, 'status': 'OK'}, {'distance': {'text': '6.6 km', 'value': 6611}, 'duration': {'text': '15 mins', 'value': 902}, 'status': 'OK'}, {'distance': {'text': '35.0 km', 'value': 35044}, 'duration': {'text': '44 mins', 'value': 2655}, 'status': 'OK'}, {'distance': {'text': '11.9 km', 'value': 11877}, 'duration': {'text': '21 mins', 'value': 1288}, 'status': 'OK'}]}, {'elements': [{'distance': {'text': '1 m', 'value': 0}, 'duration': {'text': '1 min', 'value': 0}, 'status': 'OK'}, {'distance': {'text': '17.1 km', 'value': 17115}, 'duration': {'text': '26 mins', 'value': 1548}, 'status': 'OK'}, {'distance': {'text': '38.7 km', 'value': 38652}, 'duration': {'text': '49 mins', 'value': 2937}, 'status': 'OK'}, {'distance': {'text': '6.1 km', 'value': 6058}, 'duration': {'text': '14 mins', 'value': 854}, 'status': 'OK'}, {'distance': {'text': '9.9 km', 'value': 9867}, 'duration': {'text': '16 mins', 'value': 961}, 'status': 'OK'}, {'distance': {'text': '27.5 km', 'value': 27469}, 'duration': {'text': '46 mins', 'value': 2736}, 'status': 'OK'}, {'distance': {'text': '29.5 km', 'value': 29475}, 'duration': {'text': '51 mins', 'value': 3036}, 'status': 'OK'}, {'distance': {'text': '6.6 km', 'value': 6611}, 'duration': {'text': '15 mins', 'value': 902}, 'status': 'OK'}, {'distance': {'text': '35.0 km', 'value': 35044}, 'duration': {'text': '44 mins', 'value': 2655}, 'status': 'OK'}, {'distance': {'text': '11.9 km', 'value': 11877}, 'duration': {'text': '21 mins', 'value': 1288}, 'status': 'OK'}]}, {'elements': [{'distance': {'text': '1 m', 'value': 0}, 'duration': {'text': '1 min', 'value': 0}, 'status': 'OK'}, {'distance': {'text': '17.1 km', 'value': 17115}, 'duration': {'text': '26 mins', 'value': 1548}, 'status': 'OK'}, {'distance': {'text': '38.7 km', 'value': 38652}, 'duration': {'text': '49 mins', 'value': 2937}, 'status': 'OK'}, {'distance': {'text': '6.1 km', 'value': 6058}, 'duration': {'text': '14 mins', 'value': 854}, 'status': 'OK'}, {'distance': {'text': '9.9 km', 'value': 9867}, 'duration': {'text': '16 mins', 'value': 961}, 'status': 'OK'}, {'distance': {'text': '27.5 km', 'value': 27469}, 'duration': {'text': '46 mins', 'value': 2736}, 'status': 'OK'}, {'distance': {'text': '29.5 km', 'value': 29475}, 'duration': {'text': '51 mins', 'value': 3036}, 'status': 'OK'}, {'distance': {'text': '6.6 km', 'value': 6611}, 'duration': {'text': '15 mins', 'value': 902}, 'status': 'OK'}, {'distance': {'text': '35.0 km', 'value': 35044}, 'duration': {'text': '44 mins', 'value': 2655}, 'status': 'OK'}, {'distance': {'text': '11.9 km', 'value': 11877}, 'duration': {'text': '21 mins', 'value': 1288}, 'status': 'OK'}]}], 'status': 'OK'}\n"
          ]
        }
      ]
    },
    {
      "cell_type": "code",
      "source": [
        "destinations"
      ],
      "metadata": {
        "id": "BCRapBd6Xjkw",
        "colab": {
          "base_uri": "https://localhost:8080/"
        },
        "outputId": "d28451dc-09f8-401f-a0f5-28aadf12e02a"
      },
      "execution_count": 10,
      "outputs": [
        {
          "output_type": "execute_result",
          "data": {
            "text/plain": [
              "['25.738242724692174 -100.16938639553275',\n",
              " '25.685560398430283 -100.27673871842696',\n",
              " '25.70228892835721 -100.45167267119795',\n",
              " '25.775189994332937 -100.1671983218613',\n",
              " '25.731790858088555 -100.21671631681376',\n",
              " '25.74900159179016 -100.35586499446596',\n",
              " '25.762375703280743 -100.37432307829884',\n",
              " '25.696466160309704 -100.16929359131058',\n",
              " '25.737845502286486 -100.39152242004646',\n",
              " '25.74631945626989 -100.2345441892342',\n",
              " '25.81343447459385 -100.26004642857993',\n",
              " '25.702524634379287 -100.49215237537992',\n",
              " '25.655205569385256 -100.31016774228974',\n",
              " '25.65247919497152 -100.22329329573482',\n",
              " '25.644793399641483 -100.27398611713602',\n",
              " '25.738242724692174 -100.16938639553275',\n",
              " '25.685560398430283 -100.27673871842696',\n",
              " '25.70228892835721 -100.45167267119795',\n",
              " '25.775189994332937 -100.1671983218613',\n",
              " '25.731790858088555 -100.21671631681376',\n",
              " '25.74900159179016 -100.35586499446596',\n",
              " '25.762375703280743 -100.37432307829884',\n",
              " '25.696466160309704 -100.16929359131058',\n",
              " '25.737845502286486 -100.39152242004646',\n",
              " '25.74631945626989 -100.2345441892342',\n",
              " '25.81343447459385 -100.26004642857993',\n",
              " '25.702524634379287 -100.49215237537992',\n",
              " '25.655205569385256 -100.31016774228974',\n",
              " '25.65247919497152 -100.22329329573482',\n",
              " '25.644793399641483 -100.27398611713602',\n",
              " '25.738242724692174 -100.16938639553275',\n",
              " '25.685560398430283 -100.27673871842696',\n",
              " '25.70228892835721 -100.45167267119795',\n",
              " '25.775189994332937 -100.1671983218613',\n",
              " '25.731790858088555 -100.21671631681376',\n",
              " '25.74900159179016 -100.35586499446596',\n",
              " '25.762375703280743 -100.37432307829884',\n",
              " '25.696466160309704 -100.16929359131058',\n",
              " '25.737845502286486 -100.39152242004646',\n",
              " '25.74631945626989 -100.2345441892342',\n",
              " '25.81343447459385 -100.26004642857993',\n",
              " '25.702524634379287 -100.49215237537992',\n",
              " '25.655205569385256 -100.31016774228974',\n",
              " '25.65247919497152 -100.22329329573482',\n",
              " '25.644793399641483 -100.27398611713602',\n",
              " '25.738242724692174 -100.16938639553275',\n",
              " '25.685560398430283 -100.27673871842696',\n",
              " '25.70228892835721 -100.45167267119795',\n",
              " '25.775189994332937 -100.1671983218613',\n",
              " '25.731790858088555 -100.21671631681376',\n",
              " '25.74900159179016 -100.35586499446596',\n",
              " '25.762375703280743 -100.37432307829884',\n",
              " '25.696466160309704 -100.16929359131058',\n",
              " '25.737845502286486 -100.39152242004646',\n",
              " '25.74631945626989 -100.2345441892342',\n",
              " '25.81343447459385 -100.26004642857993',\n",
              " '25.702524634379287 -100.49215237537992',\n",
              " '25.655205569385256 -100.31016774228974',\n",
              " '25.65247919497152 -100.22329329573482',\n",
              " '25.644793399641483 -100.27398611713602',\n",
              " '25.738242724692174 -100.16938639553275',\n",
              " '25.685560398430283 -100.27673871842696',\n",
              " '25.70228892835721 -100.45167267119795',\n",
              " '25.775189994332937 -100.1671983218613',\n",
              " '25.731790858088555 -100.21671631681376',\n",
              " '25.74900159179016 -100.35586499446596',\n",
              " '25.762375703280743 -100.37432307829884',\n",
              " '25.696466160309704 -100.16929359131058',\n",
              " '25.737845502286486 -100.39152242004646',\n",
              " '25.74631945626989 -100.2345441892342',\n",
              " '25.81343447459385 -100.26004642857993',\n",
              " '25.702524634379287 -100.49215237537992',\n",
              " '25.655205569385256 -100.31016774228974',\n",
              " '25.65247919497152 -100.22329329573482',\n",
              " '25.644793399641483 -100.27398611713602',\n",
              " '25.738242724692174 -100.16938639553275',\n",
              " '25.685560398430283 -100.27673871842696',\n",
              " '25.70228892835721 -100.45167267119795',\n",
              " '25.775189994332937 -100.1671983218613',\n",
              " '25.731790858088555 -100.21671631681376',\n",
              " '25.74900159179016 -100.35586499446596',\n",
              " '25.762375703280743 -100.37432307829884',\n",
              " '25.696466160309704 -100.16929359131058',\n",
              " '25.737845502286486 -100.39152242004646',\n",
              " '25.74631945626989 -100.2345441892342',\n",
              " '25.81343447459385 -100.26004642857993',\n",
              " '25.702524634379287 -100.49215237537992',\n",
              " '25.655205569385256 -100.31016774228974',\n",
              " '25.65247919497152 -100.22329329573482',\n",
              " '25.644793399641483 -100.27398611713602',\n",
              " '25.738242724692174 -100.16938639553275',\n",
              " '25.685560398430283 -100.27673871842696',\n",
              " '25.70228892835721 -100.45167267119795',\n",
              " '25.775189994332937 -100.1671983218613',\n",
              " '25.731790858088555 -100.21671631681376',\n",
              " '25.74900159179016 -100.35586499446596',\n",
              " '25.762375703280743 -100.37432307829884',\n",
              " '25.696466160309704 -100.16929359131058',\n",
              " '25.737845502286486 -100.39152242004646',\n",
              " '25.74631945626989 -100.2345441892342',\n",
              " '25.81343447459385 -100.26004642857993',\n",
              " '25.702524634379287 -100.49215237537992',\n",
              " '25.655205569385256 -100.31016774228974',\n",
              " '25.65247919497152 -100.22329329573482',\n",
              " '25.644793399641483 -100.27398611713602',\n",
              " '25.738242724692174 -100.16938639553275',\n",
              " '25.685560398430283 -100.27673871842696',\n",
              " '25.70228892835721 -100.45167267119795',\n",
              " '25.775189994332937 -100.1671983218613',\n",
              " '25.731790858088555 -100.21671631681376',\n",
              " '25.74900159179016 -100.35586499446596',\n",
              " '25.762375703280743 -100.37432307829884',\n",
              " '25.696466160309704 -100.16929359131058',\n",
              " '25.737845502286486 -100.39152242004646',\n",
              " '25.74631945626989 -100.2345441892342',\n",
              " '25.81343447459385 -100.26004642857993',\n",
              " '25.702524634379287 -100.49215237537992',\n",
              " '25.655205569385256 -100.31016774228974',\n",
              " '25.65247919497152 -100.22329329573482',\n",
              " '25.644793399641483 -100.27398611713602',\n",
              " '25.738242724692174 -100.16938639553275',\n",
              " '25.685560398430283 -100.27673871842696',\n",
              " '25.70228892835721 -100.45167267119795',\n",
              " '25.775189994332937 -100.1671983218613',\n",
              " '25.731790858088555 -100.21671631681376',\n",
              " '25.74900159179016 -100.35586499446596',\n",
              " '25.762375703280743 -100.37432307829884',\n",
              " '25.696466160309704 -100.16929359131058',\n",
              " '25.737845502286486 -100.39152242004646',\n",
              " '25.74631945626989 -100.2345441892342',\n",
              " '25.81343447459385 -100.26004642857993',\n",
              " '25.702524634379287 -100.49215237537992',\n",
              " '25.655205569385256 -100.31016774228974',\n",
              " '25.65247919497152 -100.22329329573482',\n",
              " '25.644793399641483 -100.27398611713602',\n",
              " '25.738242724692174 -100.16938639553275',\n",
              " '25.685560398430283 -100.27673871842696',\n",
              " '25.70228892835721 -100.45167267119795',\n",
              " '25.775189994332937 -100.1671983218613',\n",
              " '25.731790858088555 -100.21671631681376',\n",
              " '25.74900159179016 -100.35586499446596',\n",
              " '25.762375703280743 -100.37432307829884',\n",
              " '25.696466160309704 -100.16929359131058',\n",
              " '25.737845502286486 -100.39152242004646',\n",
              " '25.74631945626989 -100.2345441892342',\n",
              " '25.81343447459385 -100.26004642857993',\n",
              " '25.702524634379287 -100.49215237537992',\n",
              " '25.655205569385256 -100.31016774228974',\n",
              " '25.65247919497152 -100.22329329573482',\n",
              " '25.644793399641483 -100.27398611713602',\n",
              " '25.738242724692174 -100.16938639553275',\n",
              " '25.685560398430283 -100.27673871842696',\n",
              " '25.70228892835721 -100.45167267119795',\n",
              " '25.775189994332937 -100.1671983218613',\n",
              " '25.731790858088555 -100.21671631681376',\n",
              " '25.74900159179016 -100.35586499446596',\n",
              " '25.762375703280743 -100.37432307829884',\n",
              " '25.696466160309704 -100.16929359131058',\n",
              " '25.737845502286486 -100.39152242004646',\n",
              " '25.74631945626989 -100.2345441892342',\n",
              " '25.81343447459385 -100.26004642857993',\n",
              " '25.702524634379287 -100.49215237537992',\n",
              " '25.655205569385256 -100.31016774228974',\n",
              " '25.65247919497152 -100.22329329573482',\n",
              " '25.644793399641483 -100.27398611713602',\n",
              " '25.738242724692174 -100.16938639553275',\n",
              " '25.685560398430283 -100.27673871842696',\n",
              " '25.70228892835721 -100.45167267119795',\n",
              " '25.775189994332937 -100.1671983218613',\n",
              " '25.731790858088555 -100.21671631681376',\n",
              " '25.74900159179016 -100.35586499446596',\n",
              " '25.762375703280743 -100.37432307829884',\n",
              " '25.696466160309704 -100.16929359131058',\n",
              " '25.737845502286486 -100.39152242004646',\n",
              " '25.74631945626989 -100.2345441892342',\n",
              " '25.81343447459385 -100.26004642857993',\n",
              " '25.702524634379287 -100.49215237537992',\n",
              " '25.655205569385256 -100.31016774228974',\n",
              " '25.65247919497152 -100.22329329573482',\n",
              " '25.644793399641483 -100.27398611713602',\n",
              " '25.738242724692174 -100.16938639553275',\n",
              " '25.685560398430283 -100.27673871842696',\n",
              " '25.70228892835721 -100.45167267119795',\n",
              " '25.775189994332937 -100.1671983218613',\n",
              " '25.731790858088555 -100.21671631681376',\n",
              " '25.74900159179016 -100.35586499446596',\n",
              " '25.762375703280743 -100.37432307829884',\n",
              " '25.696466160309704 -100.16929359131058',\n",
              " '25.737845502286486 -100.39152242004646',\n",
              " '25.74631945626989 -100.2345441892342',\n",
              " '25.81343447459385 -100.26004642857993',\n",
              " '25.702524634379287 -100.49215237537992',\n",
              " '25.655205569385256 -100.31016774228974',\n",
              " '25.65247919497152 -100.22329329573482',\n",
              " '25.644793399641483 -100.27398611713602',\n",
              " '25.738242724692174 -100.16938639553275',\n",
              " '25.685560398430283 -100.27673871842696',\n",
              " '25.70228892835721 -100.45167267119795',\n",
              " '25.775189994332937 -100.1671983218613',\n",
              " '25.731790858088555 -100.21671631681376',\n",
              " '25.74900159179016 -100.35586499446596',\n",
              " '25.762375703280743 -100.37432307829884',\n",
              " '25.696466160309704 -100.16929359131058',\n",
              " '25.737845502286486 -100.39152242004646',\n",
              " '25.74631945626989 -100.2345441892342',\n",
              " '25.81343447459385 -100.26004642857993',\n",
              " '25.702524634379287 -100.49215237537992',\n",
              " '25.655205569385256 -100.31016774228974',\n",
              " '25.65247919497152 -100.22329329573482',\n",
              " '25.644793399641483 -100.27398611713602',\n",
              " '25.738242724692174 -100.16938639553275',\n",
              " '25.685560398430283 -100.27673871842696',\n",
              " '25.70228892835721 -100.45167267119795',\n",
              " '25.775189994332937 -100.1671983218613',\n",
              " '25.731790858088555 -100.21671631681376',\n",
              " '25.74900159179016 -100.35586499446596',\n",
              " '25.762375703280743 -100.37432307829884',\n",
              " '25.696466160309704 -100.16929359131058',\n",
              " '25.737845502286486 -100.39152242004646',\n",
              " '25.74631945626989 -100.2345441892342',\n",
              " '25.81343447459385 -100.26004642857993',\n",
              " '25.702524634379287 -100.49215237537992',\n",
              " '25.655205569385256 -100.31016774228974',\n",
              " '25.65247919497152 -100.22329329573482',\n",
              " '25.644793399641483 -100.27398611713602']"
            ]
          },
          "metadata": {},
          "execution_count": 10
        }
      ]
    },
    {
      "cell_type": "code",
      "source": [
        "\n",
        "my_res = distance_matrix[\"rows\"][0][\"elements\"]  \n",
        "len(distance_matrix[\"rows\"][0][\"elements\"])\n",
        "len(distance_matrix[\"rows\"])\n"
      ],
      "metadata": {
        "colab": {
          "base_uri": "https://localhost:8080/"
        },
        "id": "ugQPLpjpXjrs",
        "outputId": "0365f2e6-d768-4abb-a7f4-8bfa19acfb75"
      },
      "execution_count": 11,
      "outputs": [
        {
          "output_type": "execute_result",
          "data": {
            "text/plain": [
              "10"
            ]
          },
          "metadata": {},
          "execution_count": 11
        }
      ]
    },
    {
      "cell_type": "markdown",
      "source": [
        "make batches of tens\n"
      ],
      "metadata": {
        "id": "LULtKnXQdRk8"
      }
    },
    {
      "cell_type": "code",
      "source": [
        "batches = []\n",
        "n = len(origins)\n",
        "#n=49\n",
        "for i in range((n//10+1)):\n",
        "  if (i+1)*10 > n:\n",
        "    batches.append((origins[i*10: (i+1)*10], destinations[i*10: n]))\n",
        "    break\n",
        "  batches.append((origins[i*10: (i+1)*10], destinations[i*10: (i+1)*10]))"
      ],
      "metadata": {
        "id": "9avoqZ88dP9f"
      },
      "execution_count": 12,
      "outputs": []
    },
    {
      "cell_type": "markdown",
      "source": [
        "get batches distance matrix"
      ],
      "metadata": {
        "id": "h-xFl6nfdUf_"
      }
    },
    {
      "cell_type": "code",
      "source": [
        "dm_destinations = []\n",
        "dm_origins = []\n",
        "dm_rows = []\n",
        "for batch in batches:\n",
        "  this_res = list(map(lambda x,y: gmaps_client.distance_matrix(x, y, mode=mode), batch[0], batch[1]))\n",
        "  for res in this_res:\n",
        "   dm_destinations.append(res[\"destination_addresses\"][0])\n",
        "   dm_origins.append(res[\"origin_addresses\"][0])\n",
        "   dm_rows.append(res[\"rows\"][0][\"elements\"][0])"
      ],
      "metadata": {
        "id": "e_k0HKqQdNKd"
      },
      "execution_count": 13,
      "outputs": []
    },
    {
      "cell_type": "code",
      "source": [
        "dm = pd.DataFrame()\n",
        "dm[\"destinations\"]=dm_destinations\n",
        "dm[\"origins\"]=dm_origins\n",
        "dm[\"rows\"]=dm_rows"
      ],
      "metadata": {
        "id": "5QH3WKhkdNOq"
      },
      "execution_count": 14,
      "outputs": []
    },
    {
      "cell_type": "code",
      "source": [
        "#dm.to_csv(\"distance_matrix_ish.csv\")\n",
        "dm"
      ],
      "metadata": {
        "id": "L1HtXjFpdNSJ",
        "colab": {
          "base_uri": "https://localhost:8080/",
          "height": 424
        },
        "outputId": "7f3b298a-d06e-4ccb-a347-01d7e9716039"
      },
      "execution_count": 15,
      "outputs": [
        {
          "output_type": "execute_result",
          "data": {
            "text/plain": [
              "                                          destinations  \\\n",
              "0    Piedad 110, Balcones de Huinala, 66640 Cd Apod...   \n",
              "1    Cerro de Mercado 3707, Fierro, 64590 Monterrey...   \n",
              "2    Calle Cañon Huasteco 1321, La Conquista, 66369...   \n",
              "3    Av. Parque Industrial Monterrey 502, Monterrey...   \n",
              "4    S. Bernardo 1305, Residencial San Cristobal 1e...   \n",
              "..                                                 ...   \n",
              "220  Jdn. del Atardecer 259, Jardines de Monterrey ...   \n",
              "221  Av. Industria del Vidrio 224, Parque Industria...   \n",
              "222  Prol Coahuila 919, Independencia, 64720 Monter...   \n",
              "223  Cerro del Peñón 3504, Encinos de La Silla, 671...   \n",
              "224  C. Cabo San Lucas 3632, Rincón de La Primavera...   \n",
              "\n",
              "                                               origins  \\\n",
              "0    Piedad 110, Balcones de Huinala, 66640 Cd Apod...   \n",
              "1    Piedad 110, Balcones de Huinala, 66640 Cd Apod...   \n",
              "2    Piedad 110, Balcones de Huinala, 66640 Cd Apod...   \n",
              "3    Piedad 110, Balcones de Huinala, 66640 Cd Apod...   \n",
              "4    Piedad 110, Balcones de Huinala, 66640 Cd Apod...   \n",
              "..                                                 ...   \n",
              "220  C. Cabo San Lucas 3632, Rincón de La Primavera...   \n",
              "221  C. Cabo San Lucas 3632, Rincón de La Primavera...   \n",
              "222  C. Cabo San Lucas 3632, Rincón de La Primavera...   \n",
              "223  C. Cabo San Lucas 3632, Rincón de La Primavera...   \n",
              "224  C. Cabo San Lucas 3632, Rincón de La Primavera...   \n",
              "\n",
              "                                                  rows  \n",
              "0    {'distance': {'text': '1 m', 'value': 0}, 'dur...  \n",
              "1    {'distance': {'text': '17.1 km', 'value': 1711...  \n",
              "2    {'distance': {'text': '38.7 km', 'value': 3865...  \n",
              "3    {'distance': {'text': '6.1 km', 'value': 6058}...  \n",
              "4    {'distance': {'text': '9.9 km', 'value': 9867}...  \n",
              "..                                                 ...  \n",
              "220  {'distance': {'text': '25.2 km', 'value': 2522...  \n",
              "221  {'distance': {'text': '26.8 km', 'value': 2678...  \n",
              "222  {'distance': {'text': '7.7 km', 'value': 7668}...  \n",
              "223  {'distance': {'text': '7.5 km', 'value': 7537}...  \n",
              "224  {'distance': {'text': '1 m', 'value': 0}, 'dur...  \n",
              "\n",
              "[225 rows x 3 columns]"
            ],
            "text/html": [
              "\n",
              "  <div id=\"df-88a0aa89-e020-44f9-8736-1ae6ebd2bf4a\">\n",
              "    <div class=\"colab-df-container\">\n",
              "      <div>\n",
              "<style scoped>\n",
              "    .dataframe tbody tr th:only-of-type {\n",
              "        vertical-align: middle;\n",
              "    }\n",
              "\n",
              "    .dataframe tbody tr th {\n",
              "        vertical-align: top;\n",
              "    }\n",
              "\n",
              "    .dataframe thead th {\n",
              "        text-align: right;\n",
              "    }\n",
              "</style>\n",
              "<table border=\"1\" class=\"dataframe\">\n",
              "  <thead>\n",
              "    <tr style=\"text-align: right;\">\n",
              "      <th></th>\n",
              "      <th>destinations</th>\n",
              "      <th>origins</th>\n",
              "      <th>rows</th>\n",
              "    </tr>\n",
              "  </thead>\n",
              "  <tbody>\n",
              "    <tr>\n",
              "      <th>0</th>\n",
              "      <td>Piedad 110, Balcones de Huinala, 66640 Cd Apod...</td>\n",
              "      <td>Piedad 110, Balcones de Huinala, 66640 Cd Apod...</td>\n",
              "      <td>{'distance': {'text': '1 m', 'value': 0}, 'dur...</td>\n",
              "    </tr>\n",
              "    <tr>\n",
              "      <th>1</th>\n",
              "      <td>Cerro de Mercado 3707, Fierro, 64590 Monterrey...</td>\n",
              "      <td>Piedad 110, Balcones de Huinala, 66640 Cd Apod...</td>\n",
              "      <td>{'distance': {'text': '17.1 km', 'value': 1711...</td>\n",
              "    </tr>\n",
              "    <tr>\n",
              "      <th>2</th>\n",
              "      <td>Calle Cañon Huasteco 1321, La Conquista, 66369...</td>\n",
              "      <td>Piedad 110, Balcones de Huinala, 66640 Cd Apod...</td>\n",
              "      <td>{'distance': {'text': '38.7 km', 'value': 3865...</td>\n",
              "    </tr>\n",
              "    <tr>\n",
              "      <th>3</th>\n",
              "      <td>Av. Parque Industrial Monterrey 502, Monterrey...</td>\n",
              "      <td>Piedad 110, Balcones de Huinala, 66640 Cd Apod...</td>\n",
              "      <td>{'distance': {'text': '6.1 km', 'value': 6058}...</td>\n",
              "    </tr>\n",
              "    <tr>\n",
              "      <th>4</th>\n",
              "      <td>S. Bernardo 1305, Residencial San Cristobal 1e...</td>\n",
              "      <td>Piedad 110, Balcones de Huinala, 66640 Cd Apod...</td>\n",
              "      <td>{'distance': {'text': '9.9 km', 'value': 9867}...</td>\n",
              "    </tr>\n",
              "    <tr>\n",
              "      <th>...</th>\n",
              "      <td>...</td>\n",
              "      <td>...</td>\n",
              "      <td>...</td>\n",
              "    </tr>\n",
              "    <tr>\n",
              "      <th>220</th>\n",
              "      <td>Jdn. del Atardecer 259, Jardines de Monterrey ...</td>\n",
              "      <td>C. Cabo San Lucas 3632, Rincón de La Primavera...</td>\n",
              "      <td>{'distance': {'text': '25.2 km', 'value': 2522...</td>\n",
              "    </tr>\n",
              "    <tr>\n",
              "      <th>221</th>\n",
              "      <td>Av. Industria del Vidrio 224, Parque Industria...</td>\n",
              "      <td>C. Cabo San Lucas 3632, Rincón de La Primavera...</td>\n",
              "      <td>{'distance': {'text': '26.8 km', 'value': 2678...</td>\n",
              "    </tr>\n",
              "    <tr>\n",
              "      <th>222</th>\n",
              "      <td>Prol Coahuila 919, Independencia, 64720 Monter...</td>\n",
              "      <td>C. Cabo San Lucas 3632, Rincón de La Primavera...</td>\n",
              "      <td>{'distance': {'text': '7.7 km', 'value': 7668}...</td>\n",
              "    </tr>\n",
              "    <tr>\n",
              "      <th>223</th>\n",
              "      <td>Cerro del Peñón 3504, Encinos de La Silla, 671...</td>\n",
              "      <td>C. Cabo San Lucas 3632, Rincón de La Primavera...</td>\n",
              "      <td>{'distance': {'text': '7.5 km', 'value': 7537}...</td>\n",
              "    </tr>\n",
              "    <tr>\n",
              "      <th>224</th>\n",
              "      <td>C. Cabo San Lucas 3632, Rincón de La Primavera...</td>\n",
              "      <td>C. Cabo San Lucas 3632, Rincón de La Primavera...</td>\n",
              "      <td>{'distance': {'text': '1 m', 'value': 0}, 'dur...</td>\n",
              "    </tr>\n",
              "  </tbody>\n",
              "</table>\n",
              "<p>225 rows × 3 columns</p>\n",
              "</div>\n",
              "      <button class=\"colab-df-convert\" onclick=\"convertToInteractive('df-88a0aa89-e020-44f9-8736-1ae6ebd2bf4a')\"\n",
              "              title=\"Convert this dataframe to an interactive table.\"\n",
              "              style=\"display:none;\">\n",
              "        \n",
              "  <svg xmlns=\"http://www.w3.org/2000/svg\" height=\"24px\"viewBox=\"0 0 24 24\"\n",
              "       width=\"24px\">\n",
              "    <path d=\"M0 0h24v24H0V0z\" fill=\"none\"/>\n",
              "    <path d=\"M18.56 5.44l.94 2.06.94-2.06 2.06-.94-2.06-.94-.94-2.06-.94 2.06-2.06.94zm-11 1L8.5 8.5l.94-2.06 2.06-.94-2.06-.94L8.5 2.5l-.94 2.06-2.06.94zm10 10l.94 2.06.94-2.06 2.06-.94-2.06-.94-.94-2.06-.94 2.06-2.06.94z\"/><path d=\"M17.41 7.96l-1.37-1.37c-.4-.4-.92-.59-1.43-.59-.52 0-1.04.2-1.43.59L10.3 9.45l-7.72 7.72c-.78.78-.78 2.05 0 2.83L4 21.41c.39.39.9.59 1.41.59.51 0 1.02-.2 1.41-.59l7.78-7.78 2.81-2.81c.8-.78.8-2.07 0-2.86zM5.41 20L4 18.59l7.72-7.72 1.47 1.35L5.41 20z\"/>\n",
              "  </svg>\n",
              "      </button>\n",
              "      \n",
              "  <style>\n",
              "    .colab-df-container {\n",
              "      display:flex;\n",
              "      flex-wrap:wrap;\n",
              "      gap: 12px;\n",
              "    }\n",
              "\n",
              "    .colab-df-convert {\n",
              "      background-color: #E8F0FE;\n",
              "      border: none;\n",
              "      border-radius: 50%;\n",
              "      cursor: pointer;\n",
              "      display: none;\n",
              "      fill: #1967D2;\n",
              "      height: 32px;\n",
              "      padding: 0 0 0 0;\n",
              "      width: 32px;\n",
              "    }\n",
              "\n",
              "    .colab-df-convert:hover {\n",
              "      background-color: #E2EBFA;\n",
              "      box-shadow: 0px 1px 2px rgba(60, 64, 67, 0.3), 0px 1px 3px 1px rgba(60, 64, 67, 0.15);\n",
              "      fill: #174EA6;\n",
              "    }\n",
              "\n",
              "    [theme=dark] .colab-df-convert {\n",
              "      background-color: #3B4455;\n",
              "      fill: #D2E3FC;\n",
              "    }\n",
              "\n",
              "    [theme=dark] .colab-df-convert:hover {\n",
              "      background-color: #434B5C;\n",
              "      box-shadow: 0px 1px 3px 1px rgba(0, 0, 0, 0.15);\n",
              "      filter: drop-shadow(0px 1px 2px rgba(0, 0, 0, 0.3));\n",
              "      fill: #FFFFFF;\n",
              "    }\n",
              "  </style>\n",
              "\n",
              "      <script>\n",
              "        const buttonEl =\n",
              "          document.querySelector('#df-88a0aa89-e020-44f9-8736-1ae6ebd2bf4a button.colab-df-convert');\n",
              "        buttonEl.style.display =\n",
              "          google.colab.kernel.accessAllowed ? 'block' : 'none';\n",
              "\n",
              "        async function convertToInteractive(key) {\n",
              "          const element = document.querySelector('#df-88a0aa89-e020-44f9-8736-1ae6ebd2bf4a');\n",
              "          const dataTable =\n",
              "            await google.colab.kernel.invokeFunction('convertToInteractive',\n",
              "                                                     [key], {});\n",
              "          if (!dataTable) return;\n",
              "\n",
              "          const docLinkHtml = 'Like what you see? Visit the ' +\n",
              "            '<a target=\"_blank\" href=https://colab.research.google.com/notebooks/data_table.ipynb>data table notebook</a>'\n",
              "            + ' to learn more about interactive tables.';\n",
              "          element.innerHTML = '';\n",
              "          dataTable['output_type'] = 'display_data';\n",
              "          await google.colab.output.renderOutput(dataTable, element);\n",
              "          const docLink = document.createElement('div');\n",
              "          docLink.innerHTML = docLinkHtml;\n",
              "          element.appendChild(docLink);\n",
              "        }\n",
              "      </script>\n",
              "    </div>\n",
              "  </div>\n",
              "  "
            ]
          },
          "metadata": {},
          "execution_count": 15
        }
      ]
    },
    {
      "cell_type": "code",
      "source": [
        "dist_cost = 1\n",
        "time_cost = 0.1\n",
        "def get_cost(res_dict, dist_cost=1, time_cost=0.1):\n",
        "  cost = 0\n",
        "  cost += dist_cost*res_dict['distance']['value']\n",
        "  cost += time_cost*res_dict['duration']['value']\n",
        "  return cost"
      ],
      "metadata": {
        "id": "AyRj5R8KqnH-"
      },
      "execution_count": 16,
      "outputs": []
    },
    {
      "cell_type": "code",
      "source": [
        "dm_rows = list(map(get_cost, dm_rows))"
      ],
      "metadata": {
        "id": "Qow-YUnsr3E3"
      },
      "execution_count": 17,
      "outputs": []
    },
    {
      "cell_type": "code",
      "source": [
        "dm=[[] for i in range(len(latlng))]\n",
        "for i in range(len(dm_rows)):\n",
        "  dm[i // len(latlng)].append(dm_rows[i])\n"
      ],
      "metadata": {
        "id": "ItYnRHVWsaqn"
      },
      "execution_count": 18,
      "outputs": []
    },
    {
      "cell_type": "code",
      "source": [
        "pd.DataFrame(dm).to_csv(\"distance_matrix.csv\")\n",
        "dm"
      ],
      "metadata": {
        "id": "QStrlqMstHeG"
      },
      "execution_count": null,
      "outputs": []
    }
  ]
}